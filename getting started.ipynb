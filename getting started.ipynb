{
 "cells": [
  {
   "cell_type": "markdown",
   "source": [
    "# 准备模型COMETS\n",
    "该类模型用于存储在COMETS模拟中使用的全基因组尺度代谢模型。通常情况下，我们首先会使用COBRAPy加载一个模型。然后，我们可以将这个模型传递给COMETS模型类，这使得我们可以修改COMETS特有的模型参数，比如初始种群大小"
   ],
   "metadata": {
    "collapsed": false
   },
   "id": "b6d2bd7899a13213"
  },
  {
   "cell_type": "code",
   "execution_count": 1,
   "id": "initial_id",
   "metadata": {
    "collapsed": true,
    "ExecuteTime": {
     "end_time": "2024-05-30T12:37:24.658973600Z",
     "start_time": "2024-05-30T12:37:20.683257Z"
    }
   },
   "outputs": [
    {
     "name": "stderr",
     "output_type": "stream",
     "text": [
      "C:\\Users\\99374\\.conda\\envs\\CarveMe\\Lib\\site-packages\\cometspy\\model.py:623: FutureWarning: The behavior of DataFrame concatenation with empty or all-NA entries is deprecated. In a future version, this will no longer exclude empty or all-NA columns when determining the result dtypes. To retain the old behavior, exclude the relevant entries before the concat operation.\n",
      "  self.smat = pd.concat([self.smat, cdf])\n",
      "C:\\Users\\99374\\.conda\\envs\\CarveMe\\Lib\\site-packages\\cometspy\\model.py:636: FutureWarning: Calling int on a single element Series is deprecated and will raise a TypeError in the future. Use int(ser.iloc[0]) instead\n",
      "  self.objective = [int(self.reactions[self.reactions.\n"
     ]
    }
   ],
   "source": [
    "import cobra\n",
    "import cobra.io\n",
    "import cometspy as c\n",
    "\n",
    "# Load a textbook example model using the COBRAPy toolbox \n",
    "test_model = cobra.io.load_model('textbook')\n",
    "\n",
    "# Use the above model to create a COMETS model\n",
    "test_model = c.model(test_model)\n",
    "\n",
    "# Change comets specific parameters, e.g. the initial biomass of the model\n",
    "# Notre \n",
    "test_model.initial_pop = [0, 0, 1e-7] "
   ]
  },
  {
   "cell_type": "markdown",
   "source": [
    "# 设置仿真参数COMETS\n",
    "COMETS模拟的参数存储在params类中，该类仅包含一个dict对象，其中包含了参数名称及其对应的值。如果我们不带参数初始化此类，它将包含默认的参数值。一旦加载完成后，可以按照需求查看和修改这些参数值。"
   ],
   "metadata": {
    "collapsed": false
   },
   "id": "ac6d82e745a6fe83"
  },
  {
   "cell_type": "code",
   "outputs": [
    {
     "data": {
      "text/plain": "                           VALUE    UNITS\nBiomassLogName           biomass         \nBiomassLogRate                 1   cycles\nFluxLogName             flux_out         \nFluxLogRate                    5   cycles\nMediaLogName           media_out         \n...                          ...      ...\nwriteBiomassLog            False  logical\nwriteFluxLog               False  logical\nwriteMediaLog              False  logical\nwriteSpecificMediaLog      False  logical\nwriteTotalBiomassLog        True  logical\n\n[62 rows x 2 columns]",
      "text/html": "<div>\n<style scoped>\n    .dataframe tbody tr th:only-of-type {\n        vertical-align: middle;\n    }\n\n    .dataframe tbody tr th {\n        vertical-align: top;\n    }\n\n    .dataframe thead th {\n        text-align: right;\n    }\n</style>\n<table border=\"1\" class=\"dataframe\">\n  <thead>\n    <tr style=\"text-align: right;\">\n      <th></th>\n      <th>VALUE</th>\n      <th>UNITS</th>\n    </tr>\n  </thead>\n  <tbody>\n    <tr>\n      <th>BiomassLogName</th>\n      <td>biomass</td>\n      <td></td>\n    </tr>\n    <tr>\n      <th>BiomassLogRate</th>\n      <td>1</td>\n      <td>cycles</td>\n    </tr>\n    <tr>\n      <th>FluxLogName</th>\n      <td>flux_out</td>\n      <td></td>\n    </tr>\n    <tr>\n      <th>FluxLogRate</th>\n      <td>5</td>\n      <td>cycles</td>\n    </tr>\n    <tr>\n      <th>MediaLogName</th>\n      <td>media_out</td>\n      <td></td>\n    </tr>\n    <tr>\n      <th>...</th>\n      <td>...</td>\n      <td>...</td>\n    </tr>\n    <tr>\n      <th>writeBiomassLog</th>\n      <td>False</td>\n      <td>logical</td>\n    </tr>\n    <tr>\n      <th>writeFluxLog</th>\n      <td>False</td>\n      <td>logical</td>\n    </tr>\n    <tr>\n      <th>writeMediaLog</th>\n      <td>False</td>\n      <td>logical</td>\n    </tr>\n    <tr>\n      <th>writeSpecificMediaLog</th>\n      <td>False</td>\n      <td>logical</td>\n    </tr>\n    <tr>\n      <th>writeTotalBiomassLog</th>\n      <td>True</td>\n      <td>logical</td>\n    </tr>\n  </tbody>\n</table>\n<p>62 rows × 2 columns</p>\n</div>"
     },
     "execution_count": 2,
     "metadata": {},
     "output_type": "execute_result"
    }
   ],
   "source": [
    "# Create a parameters object with default values \n",
    "my_params = c.params()\n",
    "\n",
    "# Change the value of a parameter, for example number of simulation cycles\n",
    "my_params.set_param('maxCycles', 100)\n",
    "\n",
    "# Set some writeTotalBiomassLog parameter to True, in order to save the output\n",
    "my_params.set_param('writeTotalBiomassLog', True)\n",
    "\n",
    "# See avaliable parameters and their values\n",
    "my_params.show_params()"
   ],
   "metadata": {
    "collapsed": false,
    "ExecuteTime": {
     "end_time": "2024-05-30T12:37:32.203234700Z",
     "start_time": "2024-05-30T12:37:32.124562800Z"
    }
   },
   "id": "9ccba258d73ea1d3",
   "execution_count": 2
  },
  {
   "cell_type": "markdown",
   "source": [
    "# 准备模拟布局COMETS\n",
    "layout类描述了环境，即“word”的特性，包括其中存在的物种（models）。它可以为空实例化或使用COMETS模型进行实例化：\n",
    "  1.若不带任何参数实例化（例如：my_layout = c.layout()），则会创建一个空布局，并带有所有需要填充的必要字段。\n",
    "  2.如果通过传入一个模型（或多个模型）来实例化布局，则会生成一个布局，其中包含所有这些模型能够与环境交换的代谢物，其初始浓度为零，以及无限浓度（默认-1000）的金属离子。\n",
    "为了查看Comets布局的不同部分，让我们首先从上述已加载的教科书模型创建一个布局："
   ],
   "metadata": {
    "collapsed": false
   },
   "id": "6896335942632acb"
  },
  {
   "cell_type": "code",
   "outputs": [
    {
     "name": "stderr",
     "output_type": "stream",
     "text": [
      "C:\\Users\\99374\\.conda\\envs\\CarveMe\\Lib\\site-packages\\cometspy\\layout.py:1361: FutureWarning: The behavior of DataFrame concatenation with empty or all-NA entries is deprecated. In a future version, this will no longer exclude empty or all-NA columns when determining the result dtypes. To retain the old behavior, exclude the relevant entries before the concat operation.\n",
      "  self.media = pd.concat([self.media, new_row],\n"
     ]
    }
   ],
   "source": [
    "my_layout = c.layout(test_model)"
   ],
   "metadata": {
    "collapsed": false,
    "ExecuteTime": {
     "end_time": "2024-05-30T12:37:39.492576800Z",
     "start_time": "2024-05-30T12:37:39.396707900Z"
    }
   },
   "id": "5c3b4ffa9682e015",
   "execution_count": 3
  },
  {
   "cell_type": "markdown",
   "source": [
    "在该环境中，layout类存储了关于物种（my_layout.models）和空间结构（my_layout.grid）的信息。在这个例子中，模型仅指教科书模型，而网格则是默认的单格结构，即只有一个单元格。\n",
    "\n",
    "此外，layout还以pandas数据帧的形式存储了介质信息。在这种情况下，没有预先设置任何介质成分的量。这意味着初始化时，环境中对于模型可以交换的所有代谢物及其他介质成分，其初始浓度都是零或按照默认情况设定（如金属离子为无限浓度）。"
   ],
   "metadata": {
    "collapsed": false
   },
   "id": "7406aa67986c81d6"
  },
  {
   "cell_type": "code",
   "outputs": [
    {
     "data": {
      "text/plain": "      diff_c g_refresh g_static g_static_val init_amount metabolite\n0   0.000005         0        0            0           0       ac_e\n1   0.000005         0        0            0           0    acald_e\n2   0.000005         0        0            0           0      akg_e\n3   0.000005         0        0            0           0      co2_e\n4   0.000005         0        0            0           0     etoh_e\n5   0.000005         0        0            0           0      for_e\n6   0.000005         0        0            0           0      fru_e\n7   0.000005         0        0            0           0      fum_e\n8   0.000005         0        0            0           0   glc__D_e\n9   0.000005         0        0            0           0   gln__L_e\n10  0.000005         0        0            0           0   glu__L_e\n11  0.000005         0        0            0           0      h2o_e\n12  0.000005         0        0            0           0        h_e\n13  0.000005         0        0            0           0   lac__D_e\n14  0.000005         0        0            0           0   mal__L_e\n15  0.000005         0        0            0           0      nh4_e\n16  0.000005         0        0            0           0       o2_e\n17  0.000005         0        0            0           0       pi_e\n18  0.000005         0        0            0           0      pyr_e\n19  0.000005         0        0            0           0     succ_e",
      "text/html": "<div>\n<style scoped>\n    .dataframe tbody tr th:only-of-type {\n        vertical-align: middle;\n    }\n\n    .dataframe tbody tr th {\n        vertical-align: top;\n    }\n\n    .dataframe thead th {\n        text-align: right;\n    }\n</style>\n<table border=\"1\" class=\"dataframe\">\n  <thead>\n    <tr style=\"text-align: right;\">\n      <th></th>\n      <th>diff_c</th>\n      <th>g_refresh</th>\n      <th>g_static</th>\n      <th>g_static_val</th>\n      <th>init_amount</th>\n      <th>metabolite</th>\n    </tr>\n  </thead>\n  <tbody>\n    <tr>\n      <th>0</th>\n      <td>0.000005</td>\n      <td>0</td>\n      <td>0</td>\n      <td>0</td>\n      <td>0</td>\n      <td>ac_e</td>\n    </tr>\n    <tr>\n      <th>1</th>\n      <td>0.000005</td>\n      <td>0</td>\n      <td>0</td>\n      <td>0</td>\n      <td>0</td>\n      <td>acald_e</td>\n    </tr>\n    <tr>\n      <th>2</th>\n      <td>0.000005</td>\n      <td>0</td>\n      <td>0</td>\n      <td>0</td>\n      <td>0</td>\n      <td>akg_e</td>\n    </tr>\n    <tr>\n      <th>3</th>\n      <td>0.000005</td>\n      <td>0</td>\n      <td>0</td>\n      <td>0</td>\n      <td>0</td>\n      <td>co2_e</td>\n    </tr>\n    <tr>\n      <th>4</th>\n      <td>0.000005</td>\n      <td>0</td>\n      <td>0</td>\n      <td>0</td>\n      <td>0</td>\n      <td>etoh_e</td>\n    </tr>\n    <tr>\n      <th>5</th>\n      <td>0.000005</td>\n      <td>0</td>\n      <td>0</td>\n      <td>0</td>\n      <td>0</td>\n      <td>for_e</td>\n    </tr>\n    <tr>\n      <th>6</th>\n      <td>0.000005</td>\n      <td>0</td>\n      <td>0</td>\n      <td>0</td>\n      <td>0</td>\n      <td>fru_e</td>\n    </tr>\n    <tr>\n      <th>7</th>\n      <td>0.000005</td>\n      <td>0</td>\n      <td>0</td>\n      <td>0</td>\n      <td>0</td>\n      <td>fum_e</td>\n    </tr>\n    <tr>\n      <th>8</th>\n      <td>0.000005</td>\n      <td>0</td>\n      <td>0</td>\n      <td>0</td>\n      <td>0</td>\n      <td>glc__D_e</td>\n    </tr>\n    <tr>\n      <th>9</th>\n      <td>0.000005</td>\n      <td>0</td>\n      <td>0</td>\n      <td>0</td>\n      <td>0</td>\n      <td>gln__L_e</td>\n    </tr>\n    <tr>\n      <th>10</th>\n      <td>0.000005</td>\n      <td>0</td>\n      <td>0</td>\n      <td>0</td>\n      <td>0</td>\n      <td>glu__L_e</td>\n    </tr>\n    <tr>\n      <th>11</th>\n      <td>0.000005</td>\n      <td>0</td>\n      <td>0</td>\n      <td>0</td>\n      <td>0</td>\n      <td>h2o_e</td>\n    </tr>\n    <tr>\n      <th>12</th>\n      <td>0.000005</td>\n      <td>0</td>\n      <td>0</td>\n      <td>0</td>\n      <td>0</td>\n      <td>h_e</td>\n    </tr>\n    <tr>\n      <th>13</th>\n      <td>0.000005</td>\n      <td>0</td>\n      <td>0</td>\n      <td>0</td>\n      <td>0</td>\n      <td>lac__D_e</td>\n    </tr>\n    <tr>\n      <th>14</th>\n      <td>0.000005</td>\n      <td>0</td>\n      <td>0</td>\n      <td>0</td>\n      <td>0</td>\n      <td>mal__L_e</td>\n    </tr>\n    <tr>\n      <th>15</th>\n      <td>0.000005</td>\n      <td>0</td>\n      <td>0</td>\n      <td>0</td>\n      <td>0</td>\n      <td>nh4_e</td>\n    </tr>\n    <tr>\n      <th>16</th>\n      <td>0.000005</td>\n      <td>0</td>\n      <td>0</td>\n      <td>0</td>\n      <td>0</td>\n      <td>o2_e</td>\n    </tr>\n    <tr>\n      <th>17</th>\n      <td>0.000005</td>\n      <td>0</td>\n      <td>0</td>\n      <td>0</td>\n      <td>0</td>\n      <td>pi_e</td>\n    </tr>\n    <tr>\n      <th>18</th>\n      <td>0.000005</td>\n      <td>0</td>\n      <td>0</td>\n      <td>0</td>\n      <td>0</td>\n      <td>pyr_e</td>\n    </tr>\n    <tr>\n      <th>19</th>\n      <td>0.000005</td>\n      <td>0</td>\n      <td>0</td>\n      <td>0</td>\n      <td>0</td>\n      <td>succ_e</td>\n    </tr>\n  </tbody>\n</table>\n</div>"
     },
     "execution_count": 4,
     "metadata": {},
     "output_type": "execute_result"
    }
   ],
   "source": [
    "my_layout.media"
   ],
   "metadata": {
    "collapsed": false,
    "ExecuteTime": {
     "end_time": "2024-05-30T12:37:44.808009700Z",
     "start_time": "2024-05-30T12:37:44.769815Z"
    }
   },
   "id": "56b0526f63a8d799",
   "execution_count": 4
  },
  {
   "cell_type": "markdown",
   "source": [
    "当根据模型初始化时，环境中可能存在的介质化合物是至少在一个模型中有交换反应的所有化合物。上表所示的介质是一个pandas数据帧，其中存储了多种信息：\n",
    "\n",
    "- init_amount 表示在模拟网格每个单元格中添加的初始量（单位为mmol）。\n",
    "- diff_c 指示分子是否具有不同于默认扩散常数（存储在ec_layout.global_diff中）的扩散系数。\n",
    "- g_static 表示该组分是否应保持静态值，即不受模拟消耗和其他效应的影响，例如，用于设定某些营养物质为无限供应。\n",
    "- g_static_val 表示如果前一列（g_static）值为1，则该组分应保持的静态值是多少。\n",
    "- g_refresh_val 表示在每次模拟循环后应向网格每个单元格中添加的代谢物量。\n",
    "\n",
    "此外，我们还可以设置特定于模拟网格中某个单元格的局部静态值和刷新值。\n",
    "\n",
    "当介质组件被设置为静态时，这意味着其浓度在每个循环后都会恢复到设定的静态值。这在我们希望某个介质组分在模拟过程中保持近乎无限供应时使用。\n",
    "\n",
    "当一个介质组件有刷新值时，这意味着它将在每个模拟周期通过添加设定的数量得到补充。\n",
    "\n",
    "局部刷新值存储在一个列表my_layout.local_refresh中，列表中的每个元素本身也是一个列表形式为 [ x  y  m1_r  m2_r  m3_r ... ]，前两个元素x和y代表坐标，后面跟随的是所有代谢物按照媒体中的顺序排列的刷新值。\n",
    "\n",
    "局部静态值也以类似的方式存储。my_layout.local_static列表中的每个元素本身也是一个列表形式为 [ x  y  m1_s  m1_s_v m2_s  m2_s_v ... ]。这里不同的是，对于每种代谢物，都有两个值，一个定义该代谢物在该坐标处是否应保持静态（m1_s, m2_s, ...），另一个则表示应保持的数值（m1_s_v, m2_s_v, ...）。\n",
    "\n",
    "请注意，local_refresh 和 local_static 可能都为空（默认情况），或者仅包含对应坐标存在至少一个非零刷新值或静态值的条目。\n",
    "\n",
    "最后，layout还包含了每个模型起始生物量的信息。这些信息存储在initial_pop列表中。initial_pop的每个组成部分本身就是一个格式为[x y biomass_1 biomass_2 ...]的列表，用于指定每个坐标处每个模型的生物量数量。"
   ],
   "metadata": {
    "collapsed": false
   },
   "id": "915a6caeaaaf05b8"
  },
  {
   "cell_type": "markdown",
   "source": [
    "# 运行COMETS模拟 \n",
    "comets类利用layout对象和parameters对象来运行模拟并存储输出结果。运行一个COMETS模拟相当直接。我们首先通过传递layout对象和params对象作为参数来定义comets对象，然后调用run()方法执行模拟："
   ],
   "metadata": {
    "collapsed": false
   },
   "id": "760483d140333742"
  },
  {
   "cell_type": "code",
   "outputs": [
    {
     "name": "stdout",
     "output_type": "stream",
     "text": [
      "\n",
      "Running COMETS simulation ...\n",
      "Done!\n"
     ]
    }
   ],
   "source": [
    "my_simulation = c.comets(my_layout, my_params)\n",
    "my_simulation.run()"
   ],
   "metadata": {
    "collapsed": false,
    "ExecuteTime": {
     "end_time": "2024-05-30T12:37:54.349209600Z",
     "start_time": "2024-05-30T12:37:51.553214Z"
    }
   },
   "id": "4524393eeccba576",
   "execution_count": 5
  },
  {
   "cell_type": "markdown",
   "source": [
    "# 检查模拟输出及可能的错误\n",
    "该命令在后台启动COMETS Java引擎，在控制台中执行并生成标准输出（stdout）及标准错误（stderr）日志记录。这些日志可通过各自对应的字段“run_outputs”和“run_errors”进行访问查阅。"
   ],
   "metadata": {
    "collapsed": false
   },
   "id": "b4f421c699f0769a"
  },
  {
   "cell_type": "code",
   "outputs": [
    {
     "name": "stdout",
     "output_type": "stream",
     "text": [
      "-script\r\n",
      "running script file: D:\\HZAU\\bacteria\\cometes\\cometespy/.current_script_0x1565e898990\r\n",
      "Current Java version: 22.0.1\r\n",
      "Parameters file .current_global_0x1565e898990 loaded.\r\n",
      "Parameters file .current_package_0x1565e898990 loaded.\r\n",
      "Loading layout file '.current_layout_0x1565e898990'...\r\n",
      "null\\COMETS_manifest.txt (系统找不到指定的路径。)\r\n",
      "Unable to initialize manifest file. \n",
      "Continuing without writing manifest file.\r\n",
      "Found 1 model files!\r\n",
      "Loading '.\\e_coli_core.cmd' ...\r\n",
      "Done!\n",
      " Testing default parameters...\r\n",
      "Done!\n",
      "Optimizer status code = 5 (looks ok!)\r\n",
      "objective solution = 0.8739215069684305\r\n",
      "Constructing world...\r\n",
      "Done!\r\n",
      "medialist\tac_e\tacald_e\takg_e\tco2_e\tetoh_e\tfor_e\tfru_e\tfum_e\tglc__D_e\tgln__L_e\tglu__L_e\th2o_e\th_e\tlac__D_e\tmal__L_e\tnh4_e\to2_e\tpi_e\tpyr_e\tsucc_e\r\n",
      "Cycle 1\r\n",
      "Total biomass:\r\n",
      "Model e_coli_core.cmd: 1.0E-7\r\n",
      "Cycle 2\r\n",
      "Total biomass:\r\n",
      "Model e_coli_core.cmd: 1.0E-7\r\n",
      "Cycle 3\r\n",
      "Total biomass:\r\n",
      "Model e_coli_core.cmd: 1.0E-7\r\n",
      "Cycle 4\r\n",
      "Total biomass:\r\n",
      "Model e_coli_core.cmd: 1.0E-7\r\n",
      "Cycle 5\r\n",
      "Total biomass:\r\n",
      "Model e_coli_core.cmd: 1.0E-7\r\n",
      "Cycle 6\r\n",
      "Total biomass:\r\n",
      "Model e_coli_core.cmd: 1.0E-7\r\n",
      "Cycle 7\r\n",
      "Total biomass:\r\n",
      "Model e_coli_core.cmd: 1.0E-7\r\n",
      "Cycle 8\r\n",
      "Total biomass:\r\n",
      "Model e_coli_core.cmd: 1.0E-7\r\n",
      "Cycle 9\r\n",
      "Total biomass:\r\n",
      "Model e_coli_core.cmd: 1.0E-7\r\n",
      "Cycle 10\r\n",
      "Total biomass:\r\n",
      "Model e_coli_core.cmd: 1.0E-7\r\n",
      "Cycle 11\r\n",
      "Total biomass:\r\n",
      "Model e_coli_core.cmd: 1.0E-7\r\n",
      "Cycle 12\r\n",
      "Total biomass:\r\n",
      "Model e_coli_core.cmd: 1.0E-7\r\n",
      "Cycle 13\r\n",
      "Total biomass:\r\n",
      "Model e_coli_core.cmd: 1.0E-7\r\n",
      "Cycle 14\r\n",
      "Total biomass:\r\n",
      "Model e_coli_core.cmd: 1.0E-7\r\n",
      "Cycle 15\r\n",
      "Total biomass:\r\n",
      "Model e_coli_core.cmd: 1.0E-7\r\n",
      "Cycle 16\r\n",
      "Total biomass:\r\n",
      "Model e_coli_core.cmd: 1.0E-7\r\n",
      "Cycle 17\r\n",
      "Total biomass:\r\n",
      "Model e_coli_core.cmd: 1.0E-7\r\n",
      "Cycle 18\r\n",
      "Total biomass:\r\n",
      "Model e_coli_core.cmd: 1.0E-7\r\n",
      "Cycle 19\r\n",
      "Total biomass:\r\n",
      "Model e_coli_core.cmd: 1.0E-7\r\n",
      "Cycle 20\r\n",
      "Total biomass:\r\n",
      "Model e_coli_core.cmd: 1.0E-7\r\n",
      "Cycle 21\r\n",
      "Total biomass:\r\n",
      "Model e_coli_core.cmd: 1.0E-7\r\n",
      "Cycle 22\r\n",
      "Total biomass:\r\n",
      "Model e_coli_core.cmd: 1.0E-7\r\n",
      "Cycle 23\r\n",
      "Total biomass:\r\n",
      "Model e_coli_core.cmd: 1.0E-7\r\n",
      "Cycle 24\r\n",
      "Total biomass:\r\n",
      "Model e_coli_core.cmd: 1.0E-7\r\n",
      "Cycle 25\r\n",
      "Total biomass:\r\n",
      "Model e_coli_core.cmd: 1.0E-7\r\n",
      "Cycle 26\r\n",
      "Total biomass:\r\n",
      "Model e_coli_core.cmd: 1.0E-7\r\n",
      "Cycle 27\r\n",
      "Total biomass:\r\n",
      "Model e_coli_core.cmd: 1.0E-7\r\n",
      "Cycle 28\r\n",
      "Total biomass:\r\n",
      "Model e_coli_core.cmd: 1.0E-7\r\n",
      "Cycle 29\r\n",
      "Total biomass:\r\n",
      "Model e_coli_core.cmd: 1.0E-7\r\n",
      "Cycle 30\r\n",
      "Total biomass:\r\n",
      "Model e_coli_core.cmd: 1.0E-7\r\n",
      "Cycle 31\r\n",
      "Total biomass:\r\n",
      "Model e_coli_core.cmd: 1.0E-7\r\n",
      "Cycle 32\r\n",
      "Total biomass:\r\n",
      "Model e_coli_core.cmd: 1.0E-7\r\n",
      "Cycle 33\r\n",
      "Total biomass:\r\n",
      "Model e_coli_core.cmd: 1.0E-7\r\n",
      "Cycle 34\r\n",
      "Total biomass:\r\n",
      "Model e_coli_core.cmd: 1.0E-7\r\n",
      "Cycle 35\r\n",
      "Total biomass:\r\n",
      "Model e_coli_core.cmd: 1.0E-7\r\n",
      "Cycle 36\r\n",
      "Total biomass:\r\n",
      "Model e_coli_core.cmd: 1.0E-7\r\n",
      "Cycle 37\r\n",
      "Total biomass:\r\n",
      "Model e_coli_core.cmd: 1.0E-7\r\n",
      "Cycle 38\r\n",
      "Total biomass:\r\n",
      "Model e_coli_core.cmd: 1.0E-7\r\n",
      "Cycle 39\r\n",
      "Total biomass:\r\n",
      "Model e_coli_core.cmd: 1.0E-7\r\n",
      "Cycle 40\r\n",
      "Total biomass:\r\n",
      "Model e_coli_core.cmd: 1.0E-7\r\n",
      "Cycle 41\r\n",
      "Total biomass:\r\n",
      "Model e_coli_core.cmd: 1.0E-7\r\n",
      "Cycle 42\r\n",
      "Total biomass:\r\n",
      "Model e_coli_core.cmd: 1.0E-7\r\n",
      "Cycle 43\r\n",
      "Total biomass:\r\n",
      "Model e_coli_core.cmd: 1.0E-7\r\n",
      "Cycle 44\r\n",
      "Total biomass:\r\n",
      "Model e_coli_core.cmd: 1.0E-7\r\n",
      "Cycle 45\r\n",
      "Total biomass:\r\n",
      "Model e_coli_core.cmd: 1.0E-7\r\n",
      "Cycle 46\r\n",
      "Total biomass:\r\n",
      "Model e_coli_core.cmd: 1.0E-7\r\n",
      "Cycle 47\r\n",
      "Total biomass:\r\n",
      "Model e_coli_core.cmd: 1.0E-7\r\n",
      "Cycle 48\r\n",
      "Total biomass:\r\n",
      "Model e_coli_core.cmd: 1.0E-7\r\n",
      "Cycle 49\r\n",
      "Total biomass:\r\n",
      "Model e_coli_core.cmd: 1.0E-7\r\n",
      "Cycle 50\r\n",
      "Total biomass:\r\n",
      "Model e_coli_core.cmd: 1.0E-7\r\n",
      "Cycle 51\r\n",
      "Total biomass:\r\n",
      "Model e_coli_core.cmd: 1.0E-7\r\n",
      "Cycle 52\r\n",
      "Total biomass:\r\n",
      "Model e_coli_core.cmd: 1.0E-7\r\n",
      "Cycle 53\r\n",
      "Total biomass:\r\n",
      "Model e_coli_core.cmd: 1.0E-7\r\n",
      "Cycle 54\r\n",
      "Total biomass:\r\n",
      "Model e_coli_core.cmd: 1.0E-7\r\n",
      "Cycle 55\r\n",
      "Total biomass:\r\n",
      "Model e_coli_core.cmd: 1.0E-7\r\n",
      "Cycle 56\r\n",
      "Total biomass:\r\n",
      "Model e_coli_core.cmd: 1.0E-7\r\n",
      "Cycle 57\r\n",
      "Total biomass:\r\n",
      "Model e_coli_core.cmd: 1.0E-7\r\n",
      "Cycle 58\r\n",
      "Total biomass:\r\n",
      "Model e_coli_core.cmd: 1.0E-7\r\n",
      "Cycle 59\r\n",
      "Total biomass:\r\n",
      "Model e_coli_core.cmd: 1.0E-7\r\n",
      "Cycle 60\r\n",
      "Total biomass:\r\n",
      "Model e_coli_core.cmd: 1.0E-7\r\n",
      "Cycle 61\r\n",
      "Total biomass:\r\n",
      "Model e_coli_core.cmd: 1.0E-7\r\n",
      "Cycle 62\r\n",
      "Total biomass:\r\n",
      "Model e_coli_core.cmd: 1.0E-7\r\n",
      "Cycle 63\r\n",
      "Total biomass:\r\n",
      "Model e_coli_core.cmd: 1.0E-7\r\n",
      "Cycle 64\r\n",
      "Total biomass:\r\n",
      "Model e_coli_core.cmd: 1.0E-7\r\n",
      "Cycle 65\r\n",
      "Total biomass:\r\n",
      "Model e_coli_core.cmd: 1.0E-7\r\n",
      "Cycle 66\r\n",
      "Total biomass:\r\n",
      "Model e_coli_core.cmd: 1.0E-7\r\n",
      "Cycle 67\r\n",
      "Total biomass:\r\n",
      "Model e_coli_core.cmd: 1.0E-7\r\n",
      "Cycle 68\r\n",
      "Total biomass:\r\n",
      "Model e_coli_core.cmd: 1.0E-7\r\n",
      "Cycle 69\r\n",
      "Total biomass:\r\n",
      "Model e_coli_core.cmd: 1.0E-7\r\n",
      "Cycle 70\r\n",
      "Total biomass:\r\n",
      "Model e_coli_core.cmd: 1.0E-7\r\n",
      "Cycle 71\r\n",
      "Total biomass:\r\n",
      "Model e_coli_core.cmd: 1.0E-7\r\n",
      "Cycle 72\r\n",
      "Total biomass:\r\n",
      "Model e_coli_core.cmd: 1.0E-7\r\n",
      "Cycle 73\r\n",
      "Total biomass:\r\n",
      "Model e_coli_core.cmd: 1.0E-7\r\n",
      "Cycle 74\r\n",
      "Total biomass:\r\n",
      "Model e_coli_core.cmd: 1.0E-7\r\n",
      "Cycle 75\r\n",
      "Total biomass:\r\n",
      "Model e_coli_core.cmd: 1.0E-7\r\n",
      "Cycle 76\r\n",
      "Total biomass:\r\n",
      "Model e_coli_core.cmd: 1.0E-7\r\n",
      "Cycle 77\r\n",
      "Total biomass:\r\n",
      "Model e_coli_core.cmd: 1.0E-7\r\n",
      "Cycle 78\r\n",
      "Total biomass:\r\n",
      "Model e_coli_core.cmd: 1.0E-7\r\n",
      "Cycle 79\r\n",
      "Total biomass:\r\n",
      "Model e_coli_core.cmd: 1.0E-7\r\n",
      "Cycle 80\r\n",
      "Total biomass:\r\n",
      "Model e_coli_core.cmd: 1.0E-7\r\n",
      "Cycle 81\r\n",
      "Total biomass:\r\n",
      "Model e_coli_core.cmd: 1.0E-7\r\n",
      "Cycle 82\r\n",
      "Total biomass:\r\n",
      "Model e_coli_core.cmd: 1.0E-7\r\n",
      "Cycle 83\r\n",
      "Total biomass:\r\n",
      "Model e_coli_core.cmd: 1.0E-7\r\n",
      "Cycle 84\r\n",
      "Total biomass:\r\n",
      "Model e_coli_core.cmd: 1.0E-7\r\n",
      "Cycle 85\r\n",
      "Total biomass:\r\n",
      "Model e_coli_core.cmd: 1.0E-7\r\n",
      "Cycle 86\r\n",
      "Total biomass:\r\n",
      "Model e_coli_core.cmd: 1.0E-7\r\n",
      "Cycle 87\r\n",
      "Total biomass:\r\n",
      "Model e_coli_core.cmd: 1.0E-7\r\n",
      "Cycle 88\r\n",
      "Total biomass:\r\n",
      "Model e_coli_core.cmd: 1.0E-7\r\n",
      "Cycle 89\r\n",
      "Total biomass:\r\n",
      "Model e_coli_core.cmd: 1.0E-7\r\n",
      "Cycle 90\r\n",
      "Total biomass:\r\n",
      "Model e_coli_core.cmd: 1.0E-7\r\n",
      "Cycle 91\r\n",
      "Total biomass:\r\n",
      "Model e_coli_core.cmd: 1.0E-7\r\n",
      "Cycle 92\r\n",
      "Total biomass:\r\n",
      "Model e_coli_core.cmd: 1.0E-7\r\n",
      "Cycle 93\r\n",
      "Total biomass:\r\n",
      "Model e_coli_core.cmd: 1.0E-7\r\n",
      "Cycle 94\r\n",
      "Total biomass:\r\n",
      "Model e_coli_core.cmd: 1.0E-7\r\n",
      "Cycle 95\r\n",
      "Total biomass:\r\n",
      "Model e_coli_core.cmd: 1.0E-7\r\n",
      "Cycle 96\r\n",
      "Total biomass:\r\n",
      "Model e_coli_core.cmd: 1.0E-7\r\n",
      "Cycle 97\r\n",
      "Total biomass:\r\n",
      "Model e_coli_core.cmd: 1.0E-7\r\n",
      "Cycle 98\r\n",
      "Total biomass:\r\n",
      "Model e_coli_core.cmd: 1.0E-7\r\n",
      "Cycle 99\r\n",
      "Total biomass:\r\n",
      "Model e_coli_core.cmd: 1.0E-7\r\n",
      "Cycle 100\r\n",
      "Total biomass:\r\n",
      "Model e_coli_core.cmd: 1.0E-7\r\n",
      "Cycle 101\r\n",
      "End of simulation\r\n",
      "Total time = 0.222s\r\n"
     ]
    }
   ],
   "source": [
    "print(my_simulation.run_output)"
   ],
   "metadata": {
    "collapsed": false,
    "ExecuteTime": {
     "end_time": "2024-05-30T12:38:03.297247800Z",
     "start_time": "2024-05-30T12:38:03.281495200Z"
    }
   },
   "id": "e6b946507c311233",
   "execution_count": 6
  },
  {
   "cell_type": "code",
   "outputs": [
    {
     "name": "stdout",
     "output_type": "stream",
     "text": [
      "STDERR empty.\n"
     ]
    }
   ],
   "source": [
    "print(my_simulation.run_errors)"
   ],
   "metadata": {
    "collapsed": false,
    "ExecuteTime": {
     "end_time": "2024-05-30T12:38:21.981199600Z",
     "start_time": "2024-05-30T12:38:21.950699800Z"
    }
   },
   "id": "72dcb9d9f21e4ac5",
   "execution_count": 7
  },
  {
   "cell_type": "markdown",
   "source": [
    "# 访问模拟结果\n",
    "成功模拟的结果存储在comets对象内的多个字段中，这取决于参数writeTotalBiomasslog、writeBiomassLog、writeFluxLog和writeMediaLog是否设置为True。\n",
    "\n",
    "total_biomass字段存储了每个时间点和物种的总生物量（汇总所有坐标上的生物量）。\n",
    "biomass字段详细记录了每个时间点、坐标以及物种的具体生物量值。\n",
    "media字段存储了各个时间点培养基的组成情况。\n",
    "fluxes字段存储了每个物种、坐标和时间点的代谢通量数据。\n",
    "此外，特定的COMETS模式会有额外的输出字段；例如，如果我们运行的是进化模拟，genotypes字段会存储每个物种的相关信息，如其祖先以及它所经历的突变等。\n",
    "\n",
    "所有输出文件都是pandas DataFrame格式，可以使用标准Python工具进一步分析或绘制图表。\n",
    "\n"
   ],
   "metadata": {
    "collapsed": false
   },
   "id": "84461c451b079015"
  },
  {
   "cell_type": "code",
   "outputs": [
    {
     "data": {
      "text/plain": "     cycle   e_coli_core\n0        0  1.000000e-07\n1        1  1.000000e-07\n2        2  1.000000e-07\n3        3  1.000000e-07\n4        4  1.000000e-07\n..     ...           ...\n96      96  1.000000e-07\n97      97  1.000000e-07\n98      98  1.000000e-07\n99      99  1.000000e-07\n100    100  1.000000e-07\n\n[101 rows x 2 columns]",
      "text/html": "<div>\n<style scoped>\n    .dataframe tbody tr th:only-of-type {\n        vertical-align: middle;\n    }\n\n    .dataframe tbody tr th {\n        vertical-align: top;\n    }\n\n    .dataframe thead th {\n        text-align: right;\n    }\n</style>\n<table border=\"1\" class=\"dataframe\">\n  <thead>\n    <tr style=\"text-align: right;\">\n      <th></th>\n      <th>cycle</th>\n      <th>e_coli_core</th>\n    </tr>\n  </thead>\n  <tbody>\n    <tr>\n      <th>0</th>\n      <td>0</td>\n      <td>1.000000e-07</td>\n    </tr>\n    <tr>\n      <th>1</th>\n      <td>1</td>\n      <td>1.000000e-07</td>\n    </tr>\n    <tr>\n      <th>2</th>\n      <td>2</td>\n      <td>1.000000e-07</td>\n    </tr>\n    <tr>\n      <th>3</th>\n      <td>3</td>\n      <td>1.000000e-07</td>\n    </tr>\n    <tr>\n      <th>4</th>\n      <td>4</td>\n      <td>1.000000e-07</td>\n    </tr>\n    <tr>\n      <th>...</th>\n      <td>...</td>\n      <td>...</td>\n    </tr>\n    <tr>\n      <th>96</th>\n      <td>96</td>\n      <td>1.000000e-07</td>\n    </tr>\n    <tr>\n      <th>97</th>\n      <td>97</td>\n      <td>1.000000e-07</td>\n    </tr>\n    <tr>\n      <th>98</th>\n      <td>98</td>\n      <td>1.000000e-07</td>\n    </tr>\n    <tr>\n      <th>99</th>\n      <td>99</td>\n      <td>1.000000e-07</td>\n    </tr>\n    <tr>\n      <th>100</th>\n      <td>100</td>\n      <td>1.000000e-07</td>\n    </tr>\n  </tbody>\n</table>\n<p>101 rows × 2 columns</p>\n</div>"
     },
     "execution_count": 8,
     "metadata": {},
     "output_type": "execute_result"
    }
   ],
   "source": [
    "my_simulation.total_biomass"
   ],
   "metadata": {
    "collapsed": false,
    "ExecuteTime": {
     "end_time": "2024-05-30T12:38:26.798705200Z",
     "start_time": "2024-05-30T12:38:26.761939600Z"
    }
   },
   "id": "cd7631ce43aeb956",
   "execution_count": 8
  }
 ],
 "metadata": {
  "kernelspec": {
   "display_name": "Python 3",
   "language": "python",
   "name": "python3"
  },
  "language_info": {
   "codemirror_mode": {
    "name": "ipython",
    "version": 2
   },
   "file_extension": ".py",
   "mimetype": "text/x-python",
   "name": "python",
   "nbconvert_exporter": "python",
   "pygments_lexer": "ipython2",
   "version": "2.7.6"
  }
 },
 "nbformat": 4,
 "nbformat_minor": 5
}

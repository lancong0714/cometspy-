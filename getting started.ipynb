{
 "cells": [
  {
   "cell_type": "markdown",
   "source": [
    "# 准备模型COMETS\n",
    "该类模型用于存储在COMETS模拟中使用的全基因组尺度代谢模型。通常情况下，我们首先会使用COBRAPy加载一个模型。然后，我们可以将这个模型传递给COMETS模型类，这使得我们可以修改COMETS特有的模型参数，比如初始种群大小"
   ],
   "metadata": {
    "collapsed": false
   },
   "id": "b6d2bd7899a13213"
  },
  {
   "cell_type": "code",
   "execution_count": 5,
   "id": "initial_id",
   "metadata": {
    "collapsed": true,
    "ExecuteTime": {
     "end_time": "2024-04-11T08:59:18.152743400Z",
     "start_time": "2024-04-11T08:59:17.600727300Z"
    }
   },
   "outputs": [
    {
     "name": "stderr",
     "output_type": "stream",
     "text": [
      "C:\\Users\\99374\\.conda\\envs\\CarveMe\\Lib\\site-packages\\cometspy\\model.py:623: FutureWarning: The behavior of DataFrame concatenation with empty or all-NA entries is deprecated. In a future version, this will no longer exclude empty or all-NA columns when determining the result dtypes. To retain the old behavior, exclude the relevant entries before the concat operation.\n",
      "  self.smat = pd.concat([self.smat, cdf])\n",
      "C:\\Users\\99374\\.conda\\envs\\CarveMe\\Lib\\site-packages\\cometspy\\model.py:636: FutureWarning: Calling int on a single element Series is deprecated and will raise a TypeError in the future. Use int(ser.iloc[0]) instead\n",
      "  self.objective = [int(self.reactions[self.reactions.\n"
     ]
    }
   ],
   "source": [
    "import cobra\n",
    "import cobra.io\n",
    "import cometspy as c\n",
    "\n",
    "# Load a textbook example model using the COBRAPy toolbox \n",
    "test_model = cobra.io.load_model('textbook')\n",
    "\n",
    "# Use the above model to create a COMETS model\n",
    "test_model = c.model(test_model)\n",
    "\n",
    "# Change comets specific parameters, e.g. the initial biomass of the model\n",
    "# Notre \n",
    "test_model.initial_pop = [0, 0, 1e-7] "
   ]
  },
  {
   "cell_type": "markdown",
   "source": [
    "# 设置仿真参数COMETS\n",
    "COMETS模拟的参数存储在params类中，该类仅包含一个dict对象，其中包含了参数名称及其对应的值。如果我们不带参数初始化此类，它将包含默认的参数值。一旦加载完成后，可以按照需求查看和修改这些参数值。"
   ],
   "metadata": {
    "collapsed": false
   },
   "id": "ac6d82e745a6fe83"
  },
  {
   "cell_type": "code",
   "outputs": [
    {
     "data": {
      "text/plain": "                           VALUE    UNITS\nBiomassLogName           biomass         \nBiomassLogRate                 1   cycles\nFluxLogName             flux_out         \nFluxLogRate                    5   cycles\nMediaLogName           media_out         \n...                          ...      ...\nwriteBiomassLog            False  logical\nwriteFluxLog               False  logical\nwriteMediaLog              False  logical\nwriteSpecificMediaLog      False  logical\nwriteTotalBiomassLog        True  logical\n\n[62 rows x 2 columns]",
      "text/html": "<div>\n<style scoped>\n    .dataframe tbody tr th:only-of-type {\n        vertical-align: middle;\n    }\n\n    .dataframe tbody tr th {\n        vertical-align: top;\n    }\n\n    .dataframe thead th {\n        text-align: right;\n    }\n</style>\n<table border=\"1\" class=\"dataframe\">\n  <thead>\n    <tr style=\"text-align: right;\">\n      <th></th>\n      <th>VALUE</th>\n      <th>UNITS</th>\n    </tr>\n  </thead>\n  <tbody>\n    <tr>\n      <th>BiomassLogName</th>\n      <td>biomass</td>\n      <td></td>\n    </tr>\n    <tr>\n      <th>BiomassLogRate</th>\n      <td>1</td>\n      <td>cycles</td>\n    </tr>\n    <tr>\n      <th>FluxLogName</th>\n      <td>flux_out</td>\n      <td></td>\n    </tr>\n    <tr>\n      <th>FluxLogRate</th>\n      <td>5</td>\n      <td>cycles</td>\n    </tr>\n    <tr>\n      <th>MediaLogName</th>\n      <td>media_out</td>\n      <td></td>\n    </tr>\n    <tr>\n      <th>...</th>\n      <td>...</td>\n      <td>...</td>\n    </tr>\n    <tr>\n      <th>writeBiomassLog</th>\n      <td>False</td>\n      <td>logical</td>\n    </tr>\n    <tr>\n      <th>writeFluxLog</th>\n      <td>False</td>\n      <td>logical</td>\n    </tr>\n    <tr>\n      <th>writeMediaLog</th>\n      <td>False</td>\n      <td>logical</td>\n    </tr>\n    <tr>\n      <th>writeSpecificMediaLog</th>\n      <td>False</td>\n      <td>logical</td>\n    </tr>\n    <tr>\n      <th>writeTotalBiomassLog</th>\n      <td>True</td>\n      <td>logical</td>\n    </tr>\n  </tbody>\n</table>\n<p>62 rows × 2 columns</p>\n</div>"
     },
     "execution_count": 6,
     "metadata": {},
     "output_type": "execute_result"
    }
   ],
   "source": [
    "# Create a parameters object with default values \n",
    "my_params = c.params()\n",
    "\n",
    "# Change the value of a parameter, for example number of simulation cycles\n",
    "my_params.set_param('maxCycles', 100)\n",
    "\n",
    "# Set some writeTotalBiomassLog parameter to True, in order to save the output\n",
    "my_params.set_param('writeTotalBiomassLog', True)\n",
    "\n",
    "# See avaliable parameters and their values\n",
    "my_params.show_params()"
   ],
   "metadata": {
    "collapsed": false,
    "ExecuteTime": {
     "end_time": "2024-04-11T09:00:14.595828700Z",
     "start_time": "2024-04-11T09:00:14.495693400Z"
    }
   },
   "id": "9ccba258d73ea1d3",
   "execution_count": 6
  },
  {
   "cell_type": "markdown",
   "source": [
    "# 准备模拟布局COMETS\n",
    "layout类描述了环境，即“word”的特性，包括其中存在的物种（models）。它可以为空实例化或使用COMETS模型进行实例化：\n",
    "  1.若不带任何参数实例化（例如：my_layout = c.layout()），则会创建一个空布局，并带有所有需要填充的必要字段。\n",
    "  2.如果通过传入一个模型（或多个模型）来实例化布局，则会生成一个布局，其中包含所有这些模型能够与环境交换的代谢物，其初始浓度为零，以及无限浓度（默认-1000）的金属离子。\n",
    "为了查看Comets布局的不同部分，让我们首先从上述已加载的教科书模型创建一个布局："
   ],
   "metadata": {
    "collapsed": false
   },
   "id": "6896335942632acb"
  },
  {
   "cell_type": "code",
   "outputs": [
    {
     "name": "stderr",
     "output_type": "stream",
     "text": [
      "C:\\Users\\99374\\.conda\\envs\\CarveMe\\Lib\\site-packages\\cometspy\\layout.py:1361: FutureWarning: The behavior of DataFrame concatenation with empty or all-NA entries is deprecated. In a future version, this will no longer exclude empty or all-NA columns when determining the result dtypes. To retain the old behavior, exclude the relevant entries before the concat operation.\n",
      "  self.media = pd.concat([self.media, new_row],\n"
     ]
    }
   ],
   "source": [
    "my_layout = c.layout(test_model)"
   ],
   "metadata": {
    "collapsed": false,
    "ExecuteTime": {
     "end_time": "2024-04-11T09:00:30.124707300Z",
     "start_time": "2024-04-11T09:00:30.061092Z"
    }
   },
   "id": "5c3b4ffa9682e015",
   "execution_count": 7
  },
  {
   "cell_type": "markdown",
   "source": [
    "在该环境中，layout类存储了关于物种（my_layout.models）和空间结构（my_layout.grid）的信息。在这个例子中，模型仅指教科书模型，而网格则是默认的单格结构，即只有一个单元格。\n",
    "\n",
    "此外，layout还以pandas数据帧的形式存储了介质信息。在这种情况下，没有预先设置任何介质成分的量。这意味着初始化时，环境中对于模型可以交换的所有代谢物及其他介质成分，其初始浓度都是零或按照默认情况设定（如金属离子为无限浓度）。"
   ],
   "metadata": {
    "collapsed": false
   },
   "id": "7406aa67986c81d6"
  },
  {
   "cell_type": "code",
   "outputs": [
    {
     "data": {
      "text/plain": "      diff_c g_refresh g_static g_static_val init_amount metabolite\n0   0.000005         0        0            0           0       ac_e\n1   0.000005         0        0            0           0    acald_e\n2   0.000005         0        0            0           0      akg_e\n3   0.000005         0        0            0           0      co2_e\n4   0.000005         0        0            0           0     etoh_e\n5   0.000005         0        0            0           0      for_e\n6   0.000005         0        0            0           0      fru_e\n7   0.000005         0        0            0           0      fum_e\n8   0.000005         0        0            0           0   glc__D_e\n9   0.000005         0        0            0           0   gln__L_e\n10  0.000005         0        0            0           0   glu__L_e\n11  0.000005         0        0            0           0      h2o_e\n12  0.000005         0        0            0           0        h_e\n13  0.000005         0        0            0           0   lac__D_e\n14  0.000005         0        0            0           0   mal__L_e\n15  0.000005         0        0            0           0      nh4_e\n16  0.000005         0        0            0           0       o2_e\n17  0.000005         0        0            0           0       pi_e\n18  0.000005         0        0            0           0      pyr_e\n19  0.000005         0        0            0           0     succ_e",
      "text/html": "<div>\n<style scoped>\n    .dataframe tbody tr th:only-of-type {\n        vertical-align: middle;\n    }\n\n    .dataframe tbody tr th {\n        vertical-align: top;\n    }\n\n    .dataframe thead th {\n        text-align: right;\n    }\n</style>\n<table border=\"1\" class=\"dataframe\">\n  <thead>\n    <tr style=\"text-align: right;\">\n      <th></th>\n      <th>diff_c</th>\n      <th>g_refresh</th>\n      <th>g_static</th>\n      <th>g_static_val</th>\n      <th>init_amount</th>\n      <th>metabolite</th>\n    </tr>\n  </thead>\n  <tbody>\n    <tr>\n      <th>0</th>\n      <td>0.000005</td>\n      <td>0</td>\n      <td>0</td>\n      <td>0</td>\n      <td>0</td>\n      <td>ac_e</td>\n    </tr>\n    <tr>\n      <th>1</th>\n      <td>0.000005</td>\n      <td>0</td>\n      <td>0</td>\n      <td>0</td>\n      <td>0</td>\n      <td>acald_e</td>\n    </tr>\n    <tr>\n      <th>2</th>\n      <td>0.000005</td>\n      <td>0</td>\n      <td>0</td>\n      <td>0</td>\n      <td>0</td>\n      <td>akg_e</td>\n    </tr>\n    <tr>\n      <th>3</th>\n      <td>0.000005</td>\n      <td>0</td>\n      <td>0</td>\n      <td>0</td>\n      <td>0</td>\n      <td>co2_e</td>\n    </tr>\n    <tr>\n      <th>4</th>\n      <td>0.000005</td>\n      <td>0</td>\n      <td>0</td>\n      <td>0</td>\n      <td>0</td>\n      <td>etoh_e</td>\n    </tr>\n    <tr>\n      <th>5</th>\n      <td>0.000005</td>\n      <td>0</td>\n      <td>0</td>\n      <td>0</td>\n      <td>0</td>\n      <td>for_e</td>\n    </tr>\n    <tr>\n      <th>6</th>\n      <td>0.000005</td>\n      <td>0</td>\n      <td>0</td>\n      <td>0</td>\n      <td>0</td>\n      <td>fru_e</td>\n    </tr>\n    <tr>\n      <th>7</th>\n      <td>0.000005</td>\n      <td>0</td>\n      <td>0</td>\n      <td>0</td>\n      <td>0</td>\n      <td>fum_e</td>\n    </tr>\n    <tr>\n      <th>8</th>\n      <td>0.000005</td>\n      <td>0</td>\n      <td>0</td>\n      <td>0</td>\n      <td>0</td>\n      <td>glc__D_e</td>\n    </tr>\n    <tr>\n      <th>9</th>\n      <td>0.000005</td>\n      <td>0</td>\n      <td>0</td>\n      <td>0</td>\n      <td>0</td>\n      <td>gln__L_e</td>\n    </tr>\n    <tr>\n      <th>10</th>\n      <td>0.000005</td>\n      <td>0</td>\n      <td>0</td>\n      <td>0</td>\n      <td>0</td>\n      <td>glu__L_e</td>\n    </tr>\n    <tr>\n      <th>11</th>\n      <td>0.000005</td>\n      <td>0</td>\n      <td>0</td>\n      <td>0</td>\n      <td>0</td>\n      <td>h2o_e</td>\n    </tr>\n    <tr>\n      <th>12</th>\n      <td>0.000005</td>\n      <td>0</td>\n      <td>0</td>\n      <td>0</td>\n      <td>0</td>\n      <td>h_e</td>\n    </tr>\n    <tr>\n      <th>13</th>\n      <td>0.000005</td>\n      <td>0</td>\n      <td>0</td>\n      <td>0</td>\n      <td>0</td>\n      <td>lac__D_e</td>\n    </tr>\n    <tr>\n      <th>14</th>\n      <td>0.000005</td>\n      <td>0</td>\n      <td>0</td>\n      <td>0</td>\n      <td>0</td>\n      <td>mal__L_e</td>\n    </tr>\n    <tr>\n      <th>15</th>\n      <td>0.000005</td>\n      <td>0</td>\n      <td>0</td>\n      <td>0</td>\n      <td>0</td>\n      <td>nh4_e</td>\n    </tr>\n    <tr>\n      <th>16</th>\n      <td>0.000005</td>\n      <td>0</td>\n      <td>0</td>\n      <td>0</td>\n      <td>0</td>\n      <td>o2_e</td>\n    </tr>\n    <tr>\n      <th>17</th>\n      <td>0.000005</td>\n      <td>0</td>\n      <td>0</td>\n      <td>0</td>\n      <td>0</td>\n      <td>pi_e</td>\n    </tr>\n    <tr>\n      <th>18</th>\n      <td>0.000005</td>\n      <td>0</td>\n      <td>0</td>\n      <td>0</td>\n      <td>0</td>\n      <td>pyr_e</td>\n    </tr>\n    <tr>\n      <th>19</th>\n      <td>0.000005</td>\n      <td>0</td>\n      <td>0</td>\n      <td>0</td>\n      <td>0</td>\n      <td>succ_e</td>\n    </tr>\n  </tbody>\n</table>\n</div>"
     },
     "execution_count": 8,
     "metadata": {},
     "output_type": "execute_result"
    }
   ],
   "source": [
    "my_layout.media"
   ],
   "metadata": {
    "collapsed": false,
    "ExecuteTime": {
     "end_time": "2024-04-11T09:00:43.275817400Z",
     "start_time": "2024-04-11T09:00:43.232119100Z"
    }
   },
   "id": "56b0526f63a8d799",
   "execution_count": 8
  },
  {
   "cell_type": "markdown",
   "source": [
    "当根据模型初始化时，环境中可能存在的介质化合物是至少在一个模型中有交换反应的所有化合物。上表所示的介质是一个pandas数据帧，其中存储了多种信息：\n",
    "\n",
    "- init_amount 表示在模拟网格每个单元格中添加的初始量（单位为mmol）。\n",
    "- diff_c 指示分子是否具有不同于默认扩散常数（存储在ec_layout.global_diff中）的扩散系数。\n",
    "- g_static 表示该组分是否应保持静态值，即不受模拟消耗和其他效应的影响，例如，用于设定某些营养物质为无限供应。\n",
    "- g_static_val 表示如果前一列（g_static）值为1，则该组分应保持的静态值是多少。\n",
    "- g_refresh_val 表示在每次模拟循环后应向网格每个单元格中添加的代谢物量。\n",
    "\n",
    "此外，我们还可以设置特定于模拟网格中某个单元格的局部静态值和刷新值。\n",
    "\n",
    "当介质组件被设置为静态时，这意味着其浓度在每个循环后都会恢复到设定的静态值。这在我们希望某个介质组分在模拟过程中保持近乎无限供应时使用。\n",
    "\n",
    "当一个介质组件有刷新值时，这意味着它将在每个模拟周期通过添加设定的数量得到补充。\n",
    "\n",
    "局部刷新值存储在一个列表my_layout.local_refresh中，列表中的每个元素本身也是一个列表形式为 [ x  y  m1_r  m2_r  m3_r ... ]，前两个元素x和y代表坐标，后面跟随的是所有代谢物按照媒体中的顺序排列的刷新值。\n",
    "\n",
    "局部静态值也以类似的方式存储。my_layout.local_static列表中的每个元素本身也是一个列表形式为 [ x  y  m1_s  m1_s_v m2_s  m2_s_v ... ]。这里不同的是，对于每种代谢物，都有两个值，一个定义该代谢物在该坐标处是否应保持静态（m1_s, m2_s, ...），另一个则表示应保持的数值（m1_s_v, m2_s_v, ...）。\n",
    "\n",
    "请注意，local_refresh 和 local_static 可能都为空（默认情况），或者仅包含对应坐标存在至少一个非零刷新值或静态值的条目。\n",
    "\n",
    "最后，layout还包含了每个模型起始生物量的信息。这些信息存储在initial_pop列表中。initial_pop的每个组成部分本身就是一个格式为[x y biomass_1 biomass_2 ...]的列表，用于指定每个坐标处每个模型的生物量数量。"
   ],
   "metadata": {
    "collapsed": false
   },
   "id": "915a6caeaaaf05b8"
  },
  {
   "cell_type": "markdown",
   "source": [
    "# 运行COMETS模拟 \n",
    "comets类利用layout对象和parameters对象来运行模拟并存储输出结果。运行一个COMETS模拟相当直接。我们首先通过传递layout对象和params对象作为参数来定义comets对象，然后调用run()方法执行模拟："
   ],
   "metadata": {
    "collapsed": false
   },
   "id": "760483d140333742"
  },
  {
   "cell_type": "code",
   "outputs": [
    {
     "name": "stdout",
     "output_type": "stream",
     "text": [
      "\n",
      "Running COMETS simulation ...\n"
     ]
    },
    {
     "ename": "UnicodeDecodeError",
     "evalue": "'utf-8' codec can't decode byte 0xd5 in position 334: invalid continuation byte",
     "output_type": "error",
     "traceback": [
      "\u001B[1;31m---------------------------------------------------------------------------\u001B[0m",
      "\u001B[1;31mUnicodeDecodeError\u001B[0m                        Traceback (most recent call last)",
      "Cell \u001B[1;32mIn[10], line 2\u001B[0m\n\u001B[0;32m      1\u001B[0m my_simulation \u001B[38;5;241m=\u001B[39m c\u001B[38;5;241m.\u001B[39mcomets(my_layout, my_params)\n\u001B[1;32m----> 2\u001B[0m my_simulation\u001B[38;5;241m.\u001B[39mrun()\n",
      "File \u001B[1;32m~\\.conda\\envs\\CarveMe\\Lib\\site-packages\\cometspy\\comets.py:392\u001B[0m, in \u001B[0;36mcomets.run\u001B[1;34m(self, delete_files)\u001B[0m\n\u001B[0;32m    387\u001B[0m p \u001B[38;5;241m=\u001B[39m sp\u001B[38;5;241m.\u001B[39mPopen(\u001B[38;5;28mself\u001B[39m\u001B[38;5;241m.\u001B[39mcmd,\n\u001B[0;32m    388\u001B[0m              cwd \u001B[38;5;241m=\u001B[39m \u001B[38;5;28mself\u001B[39m\u001B[38;5;241m.\u001B[39mworking_dir,\n\u001B[0;32m    389\u001B[0m              shell\u001B[38;5;241m=\u001B[39m\u001B[38;5;28;01mTrue\u001B[39;00m, stdout\u001B[38;5;241m=\u001B[39msp\u001B[38;5;241m.\u001B[39mPIPE, stderr\u001B[38;5;241m=\u001B[39msp\u001B[38;5;241m.\u001B[39mSTDOUT)\n\u001B[0;32m    391\u001B[0m \u001B[38;5;28mself\u001B[39m\u001B[38;5;241m.\u001B[39mrun_output, \u001B[38;5;28mself\u001B[39m\u001B[38;5;241m.\u001B[39mrun_errors \u001B[38;5;241m=\u001B[39m p\u001B[38;5;241m.\u001B[39mcommunicate()\n\u001B[1;32m--> 392\u001B[0m \u001B[38;5;28mself\u001B[39m\u001B[38;5;241m.\u001B[39mrun_output \u001B[38;5;241m=\u001B[39m \u001B[38;5;28mself\u001B[39m\u001B[38;5;241m.\u001B[39mrun_output\u001B[38;5;241m.\u001B[39mdecode()\n\u001B[0;32m    394\u001B[0m \u001B[38;5;28;01mif\u001B[39;00m \u001B[38;5;28mself\u001B[39m\u001B[38;5;241m.\u001B[39mrun_errors \u001B[38;5;129;01mis\u001B[39;00m \u001B[38;5;129;01mnot\u001B[39;00m \u001B[38;5;28;01mNone\u001B[39;00m:\n\u001B[0;32m    395\u001B[0m     \u001B[38;5;28mself\u001B[39m\u001B[38;5;241m.\u001B[39mrun_errors \u001B[38;5;241m=\u001B[39m \u001B[38;5;28mself\u001B[39m\u001B[38;5;241m.\u001B[39mrun_errors\u001B[38;5;241m.\u001B[39mdecode()\n",
      "\u001B[1;31mUnicodeDecodeError\u001B[0m: 'utf-8' codec can't decode byte 0xd5 in position 334: invalid continuation byte"
     ]
    }
   ],
   "source": [
    "my_simulation = c.comets(my_layout, my_params)\n",
    "my_simulation.run()"
   ],
   "metadata": {
    "collapsed": false,
    "ExecuteTime": {
     "end_time": "2024-04-11T09:03:13.342533400Z",
     "start_time": "2024-04-11T09:03:11.750482600Z"
    }
   },
   "id": "4524393eeccba576",
   "execution_count": 10
  },
  {
   "cell_type": "markdown",
   "source": [
    "# 检查模拟输出及可能的错误\n",
    "该命令在后台启动COMETS Java引擎，在控制台中执行并生成标准输出（stdout）及标准错误（stderr）日志记录。这些日志可通过各自对应的字段“run_outputs”和“run_errors”进行访问查阅。"
   ],
   "metadata": {
    "collapsed": false
   },
   "id": "b4f421c699f0769a"
  },
  {
   "cell_type": "code",
   "outputs": [
    {
     "name": "stdout",
     "output_type": "stream",
     "text": [
      "b\"-script\\r\\nrunning script file: D:\\\\HZAU\\\\bacteria\\\\building\\\\merge_model-main/.current_script_0x27819a02850\\r\\nCurrent Java version: 1.8.0_401\\r\\nParameters file .current_global_0x27819a02850 loaded.\\r\\nParameters file .current_package_0x27819a02850 loaded.\\r\\nLoading layout file '.current_layout_0x27819a02850'...\\r\\nnull\\\\COMETS_manifest.txt (\\xcf\\xb5\\xcd\\xb3\\xd5\\xd2\\xb2\\xbb\\xb5\\xbd\\xd6\\xb8\\xb6\\xa8\\xb5\\xc4\\xc2\\xb7\\xbe\\xb6\\xa1\\xa3)\\r\\nUnable to initialize manifest file. \\nContinuing without writing manifest file.\\r\\nFound 1 model files!\\r\\nLoading '.\\\\e_coli_core.cmd' ...\\r\\njava.lang.NoClassDefFoundError: gurobi/GRBException\\r\\n\\tat edu.bu.segrelab.comets.fba.FBAModel.<init>(FBAModel.java:224)\\r\\n\\tat edu.bu.segrelab.comets.fba.FBAModel.<init>(FBAModel.java:287)\\r\\n\\tat edu.bu.segrelab.comets.fba.FBAModel.loadModelFromFile(FBAModel.java:2648)\\r\\n\\tat edu.bu.segrelab.comets.fba.FBACometsLoader.loadModelFromFile(FBACometsLoader.java:2918)\\r\\n\\tat edu.bu.segrelab.comets.fba.FBACometsLoader.parseModelFileLine(FBACometsLoader.java:1168)\\r\\n\\tat edu.bu.segrelab.comets.fba.FBACometsLoader.loadLayoutFile(FBACometsLoader.java:316)\\r\\n\\tat edu.bu.segrelab.comets.Comets.loadLayoutFile(Comets.java:1657)\\r\\n\\tat edu.bu.segrelab.comets.Comets.runScript(Comets.java:541)\\r\\n\\tat edu.bu.segrelab.comets.Comets.<init>(Comets.java:233)\\r\\n\\tat edu.bu.segrelab.comets.Comets.main(Comets.java:2159)\\r\\n\\tat sun.reflect.NativeMethodAccessorImpl.invoke0(Native Method)\\r\\n\\tat sun.reflect.NativeMethodAccessorImpl.invoke(Unknown Source)\\r\\n\\tat sun.reflect.DelegatingMethodAccessorImpl.invoke(Unknown Source)\\r\\n\\tat java.lang.reflect.Method.invoke(Unknown Source)\\r\\n\\tat com.exe4j.runtime.LauncherEngine.launch(LauncherEngine.java:85)\\r\\n\\tat com.exe4j.runtime.WinLauncher.main(WinLauncher.java:94)\\r\\n\\tat com.install4j.runtime.launcher.WinLauncher.main(WinLauncher.java:25)\\r\\nCaused by: java.lang.ClassNotFoundException: gurobi.GRBException\\r\\n\\tat java.net.URLClassLoader.findClass(Unknown Source)\\r\\n\\tat java.lang.ClassLoader.loadClass(Unknown Source)\\r\\n\\tat sun.misc.Launcher$AppClassLoader.loadClass(Unknown Source)\\r\\n\\tat java.lang.ClassLoader.loadClass(Unknown Source)\\r\\n\\t... 17 more\\r\\n\"\n"
     ]
    }
   ],
   "source": [
    "print(my_simulation.run_output)"
   ],
   "metadata": {
    "collapsed": false,
    "ExecuteTime": {
     "end_time": "2024-04-11T09:04:01.937852700Z",
     "start_time": "2024-04-11T09:04:01.924111900Z"
    }
   },
   "id": "e6b946507c311233",
   "execution_count": 11
  },
  {
   "cell_type": "code",
   "outputs": [
    {
     "name": "stdout",
     "output_type": "stream",
     "text": [
      "None\n"
     ]
    }
   ],
   "source": [
    "print(my_simulation.run_errors)"
   ],
   "metadata": {
    "collapsed": false,
    "ExecuteTime": {
     "end_time": "2024-04-11T09:04:16.121350Z",
     "start_time": "2024-04-11T09:04:16.104706800Z"
    }
   },
   "id": "72dcb9d9f21e4ac5",
   "execution_count": 12
  },
  {
   "cell_type": "markdown",
   "source": [
    "# 访问模拟结果\n",
    "成功模拟的结果存储在comets对象内的多个字段中，这取决于参数writeTotalBiomasslog、writeBiomassLog、writeFluxLog和writeMediaLog是否设置为True。\n",
    "\n",
    "total_biomass字段存储了每个时间点和物种的总生物量（汇总所有坐标上的生物量）。\n",
    "biomass字段详细记录了每个时间点、坐标以及物种的具体生物量值。\n",
    "media字段存储了各个时间点培养基的组成情况。\n",
    "fluxes字段存储了每个物种、坐标和时间点的代谢通量数据。\n",
    "此外，特定的COMETS模式会有额外的输出字段；例如，如果我们运行的是进化模拟，genotypes字段会存储每个物种的相关信息，如其祖先以及它所经历的突变等。\n",
    "\n",
    "所有输出文件都是pandas DataFrame格式，可以使用标准Python工具进一步分析或绘制图表。\n",
    "\n"
   ],
   "metadata": {
    "collapsed": false
   },
   "id": "84461c451b079015"
  },
  {
   "cell_type": "code",
   "outputs": [
    {
     "ename": "AttributeError",
     "evalue": "'comets' object has no attribute 'total_biomass'",
     "output_type": "error",
     "traceback": [
      "\u001B[1;31m---------------------------------------------------------------------------\u001B[0m",
      "\u001B[1;31mAttributeError\u001B[0m                            Traceback (most recent call last)",
      "Cell \u001B[1;32mIn[13], line 1\u001B[0m\n\u001B[1;32m----> 1\u001B[0m my_simulation\u001B[38;5;241m.\u001B[39mtotal_biomass\n",
      "\u001B[1;31mAttributeError\u001B[0m: 'comets' object has no attribute 'total_biomass'"
     ]
    }
   ],
   "source": [
    "my_simulation.total_biomass"
   ],
   "metadata": {
    "collapsed": false,
    "ExecuteTime": {
     "end_time": "2024-04-11T09:04:21.909479Z",
     "start_time": "2024-04-11T09:04:21.874037400Z"
    }
   },
   "id": "cd7631ce43aeb956",
   "execution_count": 13
  }
 ],
 "metadata": {
  "kernelspec": {
   "display_name": "Python 3",
   "language": "python",
   "name": "python3"
  },
  "language_info": {
   "codemirror_mode": {
    "name": "ipython",
    "version": 2
   },
   "file_extension": ".py",
   "mimetype": "text/x-python",
   "name": "python",
   "nbconvert_exporter": "python",
   "pygments_lexer": "ipython2",
   "version": "2.7.6"
  }
 },
 "nbformat": 4,
 "nbformat_minor": 5
}

{
 "cells": [
  {
   "cell_type": "markdown",
   "source": [
    "# 该模型模拟了细菌菌落在平坦表面上的生长与扩展过程\n",
    "此流程再现了主文本中模拟群体遗传噪声如何导致同样适应度的扩张菌落空间分隔的主要实验方案。"
   ],
   "metadata": {
    "collapsed": false
   },
   "id": "f7e0962e0f53319f"
  },
  {
   "cell_type": "code",
   "outputs": [],
   "source": [
    "import cobra\n",
    "import cobra.io # for the ijo1366 model\n",
    "import sys\n",
    "import copy\n",
    "import numpy as np\n",
    "#sys.path.append(\"/home/jeremy/Dropbox/work_related/harcombe_lab/segre/cometspy\") # not necessary if you pip install cometspy\n",
    "import cometspy as c"
   ],
   "metadata": {
    "collapsed": false,
    "ExecuteTime": {
     "end_time": "2024-05-30T13:48:49.888445Z",
     "start_time": "2024-05-30T13:48:46.163750900Z"
    }
   },
   "id": "23421b1f1a10db87",
   "execution_count": 1
  },
  {
   "cell_type": "markdown",
   "source": [
    "我们将使用E. coli core模型"
   ],
   "metadata": {
    "collapsed": false
   },
   "id": "dd509676b7b22cff"
  },
  {
   "cell_type": "code",
   "outputs": [],
   "source": [
    "ecoli = cobra.io.load_model('textbook')"
   ],
   "metadata": {
    "collapsed": false,
    "ExecuteTime": {
     "end_time": "2024-05-30T13:48:50.255767300Z",
     "start_time": "2024-05-30T13:48:49.891734100Z"
    }
   },
   "id": "bcb3abddf0d14ef8",
   "execution_count": 2
  },
  {
   "cell_type": "markdown",
   "source": [
    "我们现在将把这个模型转换为COMETS模型，并设置两个参数选项：一个是反映群体遗传噪声的参数，被称为“中性漂变”（neutral drift）；另一个是基于对流运动的参数。"
   ],
   "metadata": {
    "collapsed": false
   },
   "id": "5fc0ff18669afc46"
  },
  {
   "cell_type": "code",
   "outputs": [
    {
     "name": "stderr",
     "output_type": "stream",
     "text": [
      "C:\\Users\\99374\\.conda\\envs\\CarveMe\\Lib\\site-packages\\cometspy\\model.py:623: FutureWarning: The behavior of DataFrame concatenation with empty or all-NA entries is deprecated. In a future version, this will no longer exclude empty or all-NA columns when determining the result dtypes. To retain the old behavior, exclude the relevant entries before the concat operation.\n",
      "  self.smat = pd.concat([self.smat, cdf])\n",
      "C:\\Users\\99374\\.conda\\envs\\CarveMe\\Lib\\site-packages\\cometspy\\model.py:636: FutureWarning: Calling int on a single element Series is deprecated and will raise a TypeError in the future. Use int(ser.iloc[0]) instead\n",
      "  self.objective = [int(self.reactions[self.reactions.\n"
     ]
    },
    {
     "ename": "TypeError",
     "evalue": "model.add_nonlinear_diffusion_parameters() got an unexpected keyword argument 'convNonlinDiffZero'",
     "output_type": "error",
     "traceback": [
      "\u001B[1;31m---------------------------------------------------------------------------\u001B[0m",
      "\u001B[1;31mTypeError\u001B[0m                                 Traceback (most recent call last)",
      "Cell \u001B[1;32mIn[3], line 4\u001B[0m\n\u001B[0;32m      2\u001B[0m ecoli_comets \u001B[38;5;241m=\u001B[39m c\u001B[38;5;241m.\u001B[39mmodel(ecoli)\n\u001B[0;32m      3\u001B[0m ecoli_comets\u001B[38;5;241m.\u001B[39mreactions\u001B[38;5;241m.\u001B[39mloc[ecoli_comets\u001B[38;5;241m.\u001B[39mreactions\u001B[38;5;241m.\u001B[39mEXCH, \u001B[38;5;124m\"\u001B[39m\u001B[38;5;124mLB\u001B[39m\u001B[38;5;124m\"\u001B[39m] \u001B[38;5;241m=\u001B[39m \u001B[38;5;241m-\u001B[39m\u001B[38;5;241m1000\u001B[39m\n\u001B[1;32m----> 4\u001B[0m ecoli_comets\u001B[38;5;241m.\u001B[39madd_nonlinear_diffusion_parameters(convNonlinDiffZero \u001B[38;5;241m=\u001B[39m \u001B[38;5;241m0.\u001B[39m,\n\u001B[0;32m      5\u001B[0m                                     convNonlinDiffN \u001B[38;5;241m=\u001B[39m \u001B[38;5;241m6.e-6\u001B[39m,\n\u001B[0;32m      6\u001B[0m                                     convNonlinDiffExponent \u001B[38;5;241m=\u001B[39m \u001B[38;5;241m1.0\u001B[39m,\n\u001B[0;32m      7\u001B[0m                                     convNonlinDiffHillN \u001B[38;5;241m=\u001B[39m \u001B[38;5;241m2.\u001B[39m,\n\u001B[0;32m      8\u001B[0m                                     convNonlinDiffHillK \u001B[38;5;241m=\u001B[39m \u001B[38;5;241m0.001\u001B[39m)\n\u001B[0;32m      9\u001B[0m ecoli_comets\u001B[38;5;241m.\u001B[39madd_neutral_drift_parameter(\u001B[38;5;241m0.01\u001B[39m)\n",
      "\u001B[1;31mTypeError\u001B[0m: model.add_nonlinear_diffusion_parameters() got an unexpected keyword argument 'convNonlinDiffZero'"
     ]
    }
   ],
   "source": [
    "grid_size = 40\n",
    "ecoli_comets = c.model(ecoli)\n",
    "ecoli_comets.reactions.loc[ecoli_comets.reactions.EXCH, \"LB\"] = -1000\n",
    "ecoli_comets.add_nonlinear_diffusion_parameters(convNonlinDiffZero = 0.,\n",
    "                                    convNonlinDiffN = 6.e-6,\n",
    "                                    convNonlinDiffExponent = 1.0,\n",
    "                                    convNonlinDiffHillN = 2.,\n",
    "                                    convNonlinDiffHillK = 0.001)\n",
    "ecoli_comets.add_neutral_drift_parameter(0.01)"
   ],
   "metadata": {
    "collapsed": false,
    "ExecuteTime": {
     "end_time": "2024-05-30T13:48:51.447564800Z",
     "start_time": "2024-05-30T13:48:50.259030100Z"
    }
   },
   "id": "36c2b560ef288ec3",
   "execution_count": 3
  },
  {
   "cell_type": "markdown",
   "source": [
    "让我们精确复制 ecoli comets模型。"
   ],
   "metadata": {
    "collapsed": false
   },
   "id": "f1d0258ad4b2b194"
  },
  {
   "cell_type": "code",
   "outputs": [],
   "source": [
    "import random\n",
    "\n",
    "ecoli_comets2 = copy.copy(ecoli_comets)\n",
    "ecoli_comets2.id = \"e_coli_core2\"\n",
    "\n",
    "ecoli_comets.initial_pop = [[x, 0, np.random.normal(6.4e-5, 1e-6)] for x in range(grid_size)]\n",
    "ecoli_comets2.initial_pop = [[x, 0, np.random.normal(6.4e-5, 1e-6)] for x in range(grid_size)]"
   ],
   "metadata": {
    "collapsed": false,
    "ExecuteTime": {
     "start_time": "2024-05-30T13:48:51.444292300Z"
    }
   },
   "id": "7e7016470b7aca00"
  },
  {
   "cell_type": "markdown",
   "source": [
    "这次模拟将在一个100x100的网格上构建一个位于中心的单一菌落。碳源将在整个区域内均匀分布，并且在网格的一端设定为固定的初始浓度。"
   ],
   "metadata": {
    "collapsed": false
   },
   "id": "3f2fa761328b0d3f"
  },
  {
   "cell_type": "code",
   "outputs": [],
   "source": [
    "ly = c.layout([ecoli_comets, ecoli_comets2])\n",
    "ly.grid = [grid_size, grid_size]\n",
    "ly.set_specific_metabolite(\"glc__D_e\", 2.2e-3)\n",
    "ly.set_specific_metabolite(\"h2o_e\", 1000)\n",
    "ly.set_specific_metabolite(\"nh4_e\", 1000)\n",
    "ly.set_specific_metabolite(\"o2_e\", 1000)\n",
    "ly.set_specific_metabolite(\"pi_e\", 1000)\n",
    "ly.set_specific_metabolite(\"h_e\", 1000)\n",
    "\n",
    "for x in range(grid_size):\n",
    "    ly.set_specific_static_at_location(\"glc__D_e\", (x, grid_size-1), 1.1e-3)"
   ],
   "metadata": {
    "collapsed": false,
    "ExecuteTime": {
     "start_time": "2024-05-30T13:48:51.451154600Z"
    }
   },
   "id": "747fa49414d07d1"
  },
  {
   "cell_type": "markdown",
   "source": [
    "我们需要设置的主要参数是 biomassmotionstyle，必须设置为“ConvNonlin Diffusion 2D”。然后，为了捕获空间信息，我们还将记录生物量（而不仅仅是总生物量）。最后，我们还将调整一些其他参数。这些存储在字典all_params中。"
   ],
   "metadata": {
    "collapsed": false
   },
   "id": "cf0e4fdb6dd3771f"
  },
  {
   "cell_type": "code",
   "outputs": [],
   "source": [
    "p = c.params()\n",
    "\n",
    "cycles = 1000\n",
    "\n",
    "p.all_params[\"biomassMotionStyle\"] = \"ConvNonlin Diffusion 2D\"\n",
    "p.all_params[\"writeBiomassLog\"] = True\n",
    "p.all_params[\"BiomassLogRate\"] = cycles\n",
    "p.all_params[\"maxCycles\"] = cycles\n",
    "p.all_params[\"timeStep\"] = 0.05\n",
    "p.all_params[\"spaceWidth\"] = 0.01\n",
    "p.all_params[\"defaultDiffConst\"] = 6.e-6\n",
    "p.all_params[\"maxSpaceBiomass\"] = 1000000\n",
    "p.all_params[\"minSpaceBiomass\"] = 1.0e-9\n",
    "p.all_params[\"allowCellOverlap\"] = True\n",
    "p.all_params[\"growthDiffRate\"] = 0\n",
    "p.all_params[\"defaultVmax\"] = 18.5\n",
    "p.all_params[\"defaultKm\"] = 0.000015\n",
    "p.all_params[\"defaultHill\"] = 1\n",
    "p.all_params[\"exchangestyle\"] = \"Monod Style\""
   ],
   "metadata": {
    "collapsed": false,
    "ExecuteTime": {
     "start_time": "2024-05-30T13:48:51.455831700Z"
    }
   },
   "id": "b6f035e055137cea"
  },
  {
   "cell_type": "markdown",
   "source": [
    "现在我们制作一个模拟对象并运行它。这可能需要一段时间。"
   ],
   "metadata": {
    "collapsed": false
   },
   "id": "f1d5224b7d115b46"
  },
  {
   "cell_type": "code",
   "outputs": [],
   "source": [
    "sim = c.comets(ly, p)\n",
    "sim.run()"
   ],
   "metadata": {
    "collapsed": false,
    "ExecuteTime": {
     "end_time": "2024-05-30T13:48:51.463510400Z",
     "start_time": "2024-05-30T13:48:51.459929400Z"
    }
   },
   "id": "137f412f65b0db75"
  },
  {
   "cell_type": "markdown",
   "source": [
    "现在让我们绘制结果图。我们使用 get_biomass_image 辅助函数，然后使用 matplotlib 进行绘图。"
   ],
   "metadata": {
    "collapsed": false
   },
   "id": "698cb5fb72cea35d"
  },
  {
   "cell_type": "code",
   "outputs": [],
   "source": [
    "im = sim.get_biomass_image('e_coli_core', cycles).astype(float)\n",
    "im = im / np.max(im)\n",
    "im2 = sim.get_biomass_image('e_coli_core2',cycles).astype(float)\n",
    "im2 = im2 / np.max(im2)\n",
    "final = np.zeros((grid_size,grid_size,3))\n",
    "final[:,:,1] = im\n",
    "final[:,:,2] = im2\n",
    "from matplotlib import pyplot as plt\n",
    "plt.imshow(final)"
   ],
   "metadata": {
    "collapsed": false,
    "ExecuteTime": {
     "end_time": "2024-05-30T13:48:51.514756300Z",
     "start_time": "2024-05-30T13:48:51.464527300Z"
    }
   },
   "id": "f9ac53a03b8173a7"
  }
 ],
 "metadata": {
  "kernelspec": {
   "display_name": "Python 3",
   "language": "python",
   "name": "python3"
  },
  "language_info": {
   "codemirror_mode": {
    "name": "ipython",
    "version": 2
   },
   "file_extension": ".py",
   "mimetype": "text/x-python",
   "name": "python",
   "nbconvert_exporter": "python",
   "pygments_lexer": "ipython2",
   "version": "2.7.6"
  }
 },
 "nbformat": 4,
 "nbformat_minor": 5
}

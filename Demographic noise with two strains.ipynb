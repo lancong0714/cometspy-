{
 "cells": [
  {
   "cell_type": "markdown",
   "source": [
    "# 该模型模拟了细菌菌落在平坦表面上的生长与扩展过程\n",
    "此流程再现了主文本中模拟群体遗传噪声如何导致同样适应度的扩张菌落空间分隔的主要实验方案。"
   ],
   "metadata": {
    "collapsed": false
   },
   "id": "f7e0962e0f53319f"
  },
  {
   "cell_type": "code",
   "outputs": [],
   "source": [
    "import cobra\n",
    "import cobra.io # for the ijo1366 model\n",
    "import sys\n",
    "import copy\n",
    "import numpy as np\n",
    "#sys.path.append(\"/home/jeremy/Dropbox/work_related/harcombe_lab/segre/cometspy\") # not necessary if you pip install cometspy\n",
    "import cometspy as c"
   ],
   "metadata": {
    "collapsed": false
   },
   "id": "23421b1f1a10db87"
  },
  {
   "cell_type": "markdown",
   "source": [
    "我们将使用E. coli core模型"
   ],
   "metadata": {
    "collapsed": false
   },
   "id": "dd509676b7b22cff"
  },
  {
   "cell_type": "code",
   "outputs": [],
   "source": [
    "ecoli = cobra.io.load_model('textbook')"
   ],
   "metadata": {
    "collapsed": false
   },
   "id": "bcb3abddf0d14ef8"
  },
  {
   "cell_type": "markdown",
   "source": [
    "我们现在将把这个模型转换为COMETS模型，并设置两个参数选项：一个是反映群体遗传噪声的参数，被称为“中性漂变”（neutral drift）；另一个是基于对流运动的参数。"
   ],
   "metadata": {
    "collapsed": false
   },
   "id": "5fc0ff18669afc46"
  },
  {
   "cell_type": "code",
   "outputs": [],
   "source": [
    "grid_size = 40\n",
    "ecoli_comets = c.model(ecoli)\n",
    "ecoli_comets.reactions.loc[ecoli_comets.reactions.EXCH, \"LB\"] = -1000\n",
    "ecoli_comets.add_nonlinear_diffusion_parameters(convNonlinDiffZero = 0.,\n",
    "                                    convNonlinDiffN = 6.e-6,\n",
    "                                    convNonlinDiffExponent = 1.0,\n",
    "                                    convNonlinDiffHillN = 2.,\n",
    "                                    convNonlinDiffHillK = 0.001)\n",
    "ecoli_comets.add_neutral_drift_parameter(0.01)"
   ],
   "metadata": {
    "collapsed": false
   },
   "id": "36c2b560ef288ec3"
  },
  {
   "cell_type": "markdown",
   "source": [
    "让我们精确复制 ecoli comets模型。"
   ],
   "metadata": {
    "collapsed": false
   },
   "id": "f1d0258ad4b2b194"
  },
  {
   "cell_type": "code",
   "outputs": [],
   "source": [
    "import random\n",
    "\n",
    "ecoli_comets2 = copy.copy(ecoli_comets)\n",
    "ecoli_comets2.id = \"e_coli_core2\"\n",
    "\n",
    "ecoli_comets.initial_pop = [[x, 0, np.random.normal(6.4e-5, 1e-6)] for x in range(grid_size)]\n",
    "ecoli_comets2.initial_pop = [[x, 0, np.random.normal(6.4e-5, 1e-6)] for x in range(grid_size)]"
   ],
   "metadata": {
    "collapsed": false
   },
   "id": "7e7016470b7aca00"
  },
  {
   "cell_type": "markdown",
   "source": [
    "这次模拟将在一个100x100的网格上构建一个位于中心的单一菌落。碳源将在整个区域内均匀分布，并且在网格的一端设定为固定的初始浓度。"
   ],
   "metadata": {
    "collapsed": false
   },
   "id": "3f2fa761328b0d3f"
  },
  {
   "cell_type": "code",
   "outputs": [],
   "source": [
    "ly = c.layout([ecoli_comets, ecoli_comets2])\n",
    "ly.grid = [grid_size, grid_size]\n",
    "ly.set_specific_metabolite(\"glc__D_e\", 2.2e-3)\n",
    "ly.set_specific_metabolite(\"h2o_e\", 1000)\n",
    "ly.set_specific_metabolite(\"nh4_e\", 1000)\n",
    "ly.set_specific_metabolite(\"o2_e\", 1000)\n",
    "ly.set_specific_metabolite(\"pi_e\", 1000)\n",
    "ly.set_specific_metabolite(\"h_e\", 1000)\n",
    "\n",
    "for x in range(grid_size):\n",
    "    ly.set_specific_static_at_location(\"glc__D_e\", (x, grid_size-1), 1.1e-3)"
   ],
   "metadata": {
    "collapsed": false
   },
   "id": "747fa49414d07d1"
  },
  {
   "cell_type": "markdown",
   "source": [
    "我们需要设置的主要参数是 biomassmotionstyle，必须设置为“ConvNonlin Diffusion 2D”。然后，为了捕获空间信息，我们还将记录生物量（而不仅仅是总生物量）。最后，我们还将调整一些其他参数。这些存储在字典all_params中。"
   ],
   "metadata": {
    "collapsed": false
   },
   "id": "cf0e4fdb6dd3771f"
  },
  {
   "cell_type": "code",
   "outputs": [],
   "source": [
    "p = c.params()\n",
    "\n",
    "cycles = 1000\n",
    "\n",
    "p.all_params[\"biomassMotionStyle\"] = \"ConvNonlin Diffusion 2D\"\n",
    "p.all_params[\"writeBiomassLog\"] = True\n",
    "p.all_params[\"BiomassLogRate\"] = cycles\n",
    "p.all_params[\"maxCycles\"] = cycles\n",
    "p.all_params[\"timeStep\"] = 0.05\n",
    "p.all_params[\"spaceWidth\"] = 0.01\n",
    "p.all_params[\"defaultDiffConst\"] = 6.e-6\n",
    "p.all_params[\"maxSpaceBiomass\"] = 1000000\n",
    "p.all_params[\"minSpaceBiomass\"] = 1.0e-9\n",
    "p.all_params[\"allowCellOverlap\"] = True\n",
    "p.all_params[\"growthDiffRate\"] = 0\n",
    "p.all_params[\"defaultVmax\"] = 18.5\n",
    "p.all_params[\"defaultKm\"] = 0.000015\n",
    "p.all_params[\"defaultHill\"] = 1\n",
    "p.all_params[\"exchangestyle\"] = \"Monod Style\""
   ],
   "metadata": {
    "collapsed": false
   },
   "id": "b6f035e055137cea"
  },
  {
   "cell_type": "markdown",
   "source": [
    "现在我们制作一个模拟对象并运行它。这可能需要一段时间。"
   ],
   "metadata": {
    "collapsed": false
   },
   "id": "f1d5224b7d115b46"
  },
  {
   "cell_type": "code",
   "outputs": [],
   "source": [
    "sim = c.comets(ly, p)\n",
    "sim.run()"
   ],
   "metadata": {
    "collapsed": false
   },
   "id": "137f412f65b0db75"
  },
  {
   "cell_type": "markdown",
   "source": [
    "现在让我们绘制结果图。我们使用 get_biomass_image 辅助函数，然后使用 matplotlib 进行绘图。"
   ],
   "metadata": {
    "collapsed": false
   },
   "id": "698cb5fb72cea35d"
  },
  {
   "cell_type": "code",
   "outputs": [],
   "source": [
    "im = sim.get_biomass_image('e_coli_core', cycles).astype(float)\n",
    "im = im / np.max(im)\n",
    "im2 = sim.get_biomass_image('e_coli_core2',cycles).astype(float)\n",
    "im2 = im2 / np.max(im2)\n",
    "final = np.zeros((grid_size,grid_size,3))\n",
    "final[:,:,1] = im\n",
    "final[:,:,2] = im2\n",
    "from matplotlib import pyplot as plt\n",
    "plt.imshow(final)"
   ],
   "metadata": {
    "collapsed": false
   },
   "id": "f9ac53a03b8173a7"
  }
 ],
 "metadata": {
  "kernelspec": {
   "display_name": "Python 3",
   "language": "python",
   "name": "python3"
  },
  "language_info": {
   "codemirror_mode": {
    "name": "ipython",
    "version": 2
   },
   "file_extension": ".py",
   "mimetype": "text/x-python",
   "name": "python",
   "nbconvert_exporter": "python",
   "pygments_lexer": "ipython2",
   "version": "2.7.6"
  }
 },
 "nbformat": 4,
 "nbformat_minor": 5
}

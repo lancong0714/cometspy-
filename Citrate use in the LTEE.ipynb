{
 "cells": [
  {
   "cell_type": "markdown",
   "source": [
    "# 研究长期进化实验中柠檬酸盐的进化利用\n",
    "在此，我们演示如何使用COMETS研究特定突变对实验进化过程中种群动态的影响。为此，我们将借鉴一项最著名的进化实验——大肠杆菌长期进化实验[E. coli Long Term Evolution Experiment]。\n",
    "\n",
    "经过大约33000代之后，在大肠杆菌长期进化实验的一个复制群体（Ara-3）中观察到了大规模种群扩张现象（Blount等人，2008年）。这种种群扩张与两个关键突变有关，这两个突变共同促进了对空气中的柠檬酸强烈利用表型（Cit++表型）的进化。第一个突变（约在31000代时发生）导致了citT转运蛋白在有氧条件下的表达，产生了较弱的柠檬酸生长表型（Cit+，Blount等人，2012年）。随后的突变（约在33000代左右发生）引起了dctA蛋白的高度持续表达，这是一种质子驱动的二羧酸转运蛋白（Quandt等人，2014年）。由于这两个突变引入了已知的反应进入大肠杆菌代谢网络中，因此我们可以通过COMETS对其进行模拟。\n",
    "\n",
    "此示例模拟采用了与(Bajic等人，2018年)中相同的大肠杆菌模型、参数和反应敲除策略。\n",
    "\n",
    "首先，创建布局并模拟DM25培养基。"
   ],
   "metadata": {
    "collapsed": false
   },
   "id": "f7f0090dffd33109"
  },
  {
   "cell_type": "code",
   "outputs": [
    {
     "name": "stdout",
     "output_type": "stream",
     "text": [
      "building empty layout model\n",
      "models will need to be added with layout.add_model()\n",
      "Warning: The added metabolite (glc__D_e) is not able to be taken up by any of the current models\n",
      "Warning: The added metabolite (cit_e) is not able to be taken up by any of the current models\n"
     ]
    },
    {
     "name": "stderr",
     "output_type": "stream",
     "text": [
      "C:\\Users\\99374\\.conda\\envs\\CarveMe\\Lib\\site-packages\\cometspy\\layout.py:1024: FutureWarning: The behavior of DataFrame concatenation with empty or all-NA entries is deprecated. In a future version, this will no longer exclude empty or all-NA columns when determining the result dtypes. To retain the old behavior, exclude the relevant entries before the concat operation.\n",
      "  self.media = pd.concat([self.media,\n"
     ]
    }
   ],
   "source": [
    "import cometspy as c\n",
    "import matplotlib as plt\n",
    "import cobra.io\n",
    "import cobra\n",
    "import pandas as pd\n",
    "import numpy as np\n",
    "\n",
    "layout = c.layout()\n",
    "\n",
    "#Set up media to be DM25\n",
    "layout.add_typical_trace_metabolites()\n",
    "layout.set_specific_metabolite('glc__D_e', 0.000139)\n",
    "layout.set_specific_metabolite('cit_e', 0.0017)"
   ],
   "metadata": {
    "collapsed": false,
    "ExecuteTime": {
     "end_time": "2024-05-30T13:10:27.312829100Z",
     "start_time": "2024-05-30T13:10:19.298840800Z"
    }
   },
   "id": "93e7ec5352ddfb25",
   "execution_count": 1
  },
  {
   "cell_type": "markdown",
   "source": [
    "现在加载模型并构建突变体。为了展示与COBRApy工具箱的兼容性，我们将通过COBRA加载模型并对模型进行突变操作，然后将这些修改后的模型作为输入构建COMETS模型。\n",
    "\n",
    "不同于LTEE（长期进化实验）的祖先菌株REL606（以及一般的大肠杆菌），虽然它们具有利用柠檬酸所必需的基因但在有氧条件下并不表达这些基因，而iJO1366模型默认情况下对柠檬酸和琥珀酸的利用反应是未加限制的。因此，要复现祖先表型，可以通过敲除三个反应：CITt7pp（编码citT的转运反应）、SUCCt2_2pp（编码dctA的转运反应）和SUCCt2_3pp（编码dcuA或dcuB的转运反应）。"
   ],
   "metadata": {
    "collapsed": false
   },
   "id": "3c5b5df1e32023fa"
  },
  {
   "cell_type": "code",
   "outputs": [
    {
     "name": "stdout",
     "output_type": "stream",
     "text": [
      "Read LP format model from file C:\\Users\\99374\\AppData\\Local\\Temp\\tmpzx5t_7kr.lp\n",
      "Reading time = 0.03 seconds\n",
      ": 1805 rows, 5166 columns, 20366 nonzeros\n",
      "Read LP format model from file C:\\Users\\99374\\AppData\\Local\\Temp\\tmpzj34sgvv.lp\n",
      "Reading time = 0.03 seconds\n",
      ": 1805 rows, 5166 columns, 20366 nonzeros\n",
      "Read LP format model from file C:\\Users\\99374\\AppData\\Local\\Temp\\tmpq1l3ts57.lp\n",
      "Reading time = 0.03 seconds\n",
      ": 1805 rows, 5166 columns, 20366 nonzeros\n"
     ]
    },
    {
     "name": "stderr",
     "output_type": "stream",
     "text": [
      "C:\\Users\\99374\\.conda\\envs\\CarveMe\\Lib\\site-packages\\cometspy\\model.py:623: FutureWarning: The behavior of DataFrame concatenation with empty or all-NA entries is deprecated. In a future version, this will no longer exclude empty or all-NA columns when determining the result dtypes. To retain the old behavior, exclude the relevant entries before the concat operation.\n",
      "  self.smat = pd.concat([self.smat, cdf])\n",
      "C:\\Users\\99374\\.conda\\envs\\CarveMe\\Lib\\site-packages\\cometspy\\model.py:636: FutureWarning: Calling int on a single element Series is deprecated and will raise a TypeError in the future. Use int(ser.iloc[0]) instead\n",
      "  self.objective = [int(self.reactions[self.reactions.\n",
      "C:\\Users\\99374\\.conda\\envs\\CarveMe\\Lib\\site-packages\\cometspy\\model.py:623: FutureWarning: The behavior of DataFrame concatenation with empty or all-NA entries is deprecated. In a future version, this will no longer exclude empty or all-NA columns when determining the result dtypes. To retain the old behavior, exclude the relevant entries before the concat operation.\n",
      "  self.smat = pd.concat([self.smat, cdf])\n",
      "C:\\Users\\99374\\.conda\\envs\\CarveMe\\Lib\\site-packages\\cometspy\\model.py:636: FutureWarning: Calling int on a single element Series is deprecated and will raise a TypeError in the future. Use int(ser.iloc[0]) instead\n",
      "  self.objective = [int(self.reactions[self.reactions.\n",
      "C:\\Users\\99374\\.conda\\envs\\CarveMe\\Lib\\site-packages\\cometspy\\model.py:623: FutureWarning: The behavior of DataFrame concatenation with empty or all-NA entries is deprecated. In a future version, this will no longer exclude empty or all-NA columns when determining the result dtypes. To retain the old behavior, exclude the relevant entries before the concat operation.\n",
      "  self.smat = pd.concat([self.smat, cdf])\n",
      "C:\\Users\\99374\\.conda\\envs\\CarveMe\\Lib\\site-packages\\cometspy\\model.py:636: FutureWarning: Calling int on a single element Series is deprecated and will raise a TypeError in the future. Use int(ser.iloc[0]) instead\n",
      "  self.objective = [int(self.reactions[self.reactions.\n"
     ]
    }
   ],
   "source": [
    "# Load the E. coli iJO1366 model \n",
    "mod  = cobra.io.load_json_model(\"iJO1366.json\")\n",
    "\n",
    "# Set exchange reaction lower bounds to -1000 to allow them being controlled by COMETS \n",
    "for i in mod.reactions:\n",
    "    if 'EX_' in i.id:\n",
    "        i.lower_bound =-1000.0\n",
    "\n",
    "#now create the mutants \n",
    "mod.reactions.SUCCt2_3pp.upper_bound=0.0\n",
    "CitTdctA = mod.copy()\n",
    "mod.reactions.SUCCt2_2pp.upper_bound =0.0\n",
    "CitT = mod.copy()\n",
    "mod.reactions.CITt7pp.upper_bound =0.0\n",
    "WT = mod.copy()\n",
    "WT.id= 'Ancestor'\n",
    "CitT.id = 'Cit+'\n",
    "CitTdctA.id = 'Cit++'\n",
    "\n",
    "# Generate comets models and set their initial population size\n",
    "p = c.model(WT)\n",
    "p.initial_pop = [0, 0, 3.9e-11] # We'll introduce genotypes 100 cells at a time to avoid the risk of them going extinct through drift\n",
    "p2 = c.model(CitT)\n",
    "p2.initial_pop = [0, 0, 0] # not present at start\n",
    "p3 = c.model(CitTdctA)\n",
    "p3.initial_pop = [0, 0, 0] # not present at start\n",
    "\n",
    "# Add the models to the simulation \n",
    "layout.add_model(p)\n",
    "layout.add_model(p2)\n",
    "layout.add_model(p3)"
   ],
   "metadata": {
    "collapsed": false,
    "ExecuteTime": {
     "end_time": "2024-05-30T13:11:03.703415900Z",
     "start_time": "2024-05-30T13:10:27.318350900Z"
    }
   },
   "id": "17e4a6903d4e7e77",
   "execution_count": 2
  },
  {
   "cell_type": "markdown",
   "source": [
    "设置模拟的参数。我们使用 1 小时作为 COMETS 时间步长来加速模拟。将其缩短到更常用的 0.1 小时不会对最终结果产生重大影响，但确实会显着增加运行此模拟所需的时间。"
   ],
   "metadata": {
    "collapsed": false
   },
   "id": "d36e6528f4029cfc"
  },
  {
   "cell_type": "code",
   "outputs": [],
   "source": [
    "### Setting paramaters for the simulation ###\n",
    "b_params = c.params()\n",
    "b_params.all_params['timeStep'] = 1.0 \n",
    "b_params.all_params['deathRate'] = 0.01\n",
    "b_params.all_params['batchDilution'] =True\n",
    "b_params.all_params['dilTime'] =24\n",
    "b_params.all_params['dilFactor'] =100\n",
    "b_params.all_params['cellSize']= 3.9e-13 #Size of a single cell\n",
    "b_params.all_params['minSpaceBiomass'] = 3.8e-13"
   ],
   "metadata": {
    "collapsed": false,
    "ExecuteTime": {
     "end_time": "2024-05-30T13:11:03.713278Z",
     "start_time": "2024-05-30T13:11:03.710772800Z"
    }
   },
   "id": "25a408804d81fac6",
   "execution_count": 3
  },
  {
   "cell_type": "markdown",
   "source": [
    "执行模拟。我们将整个模拟过程分为三个独立的COMETS运行阶段。从第25000代开始模拟，并运行大约6000代。在大约第31000代时，我们引入CitT基因型，并继续运行约2000代。最后，在大约第33000代时，我们引入CitTdctA基因型，并进行最后6000代的模拟。每次运行时，我们都将以前一次运行结束时的生物量组成作为新的起始条件。每一轮模拟中获得的生物量数据都会被分别存储在一个单独的数据框中，然后我们将这些数据框连接起来以便进行后续的综合分析。"
   ],
   "metadata": {
    "collapsed": false
   },
   "id": "739aed43ce90843a"
  },
  {
   "cell_type": "code",
   "outputs": [
    {
     "name": "stdout",
     "output_type": "stream",
     "text": [
      "\n",
      "Running COMETS simulation ...\n"
     ]
    },
    {
     "ename": "TypeError",
     "evalue": "'int' object is not subscriptable",
     "output_type": "error",
     "traceback": [
      "\u001B[1;31m---------------------------------------------------------------------------\u001B[0m",
      "\u001B[1;31mTypeError\u001B[0m                                 Traceback (most recent call last)",
      "Cell \u001B[1;32mIn[5], line 6\u001B[0m\n\u001B[0;32m      4\u001B[0m batch_test \u001B[38;5;241m=\u001B[39m c\u001B[38;5;241m.\u001B[39mcomets(layout, b_params)\n\u001B[0;32m      5\u001B[0m batch_test\u001B[38;5;241m.\u001B[39mparameters\u001B[38;5;241m.\u001B[39mall_params[\u001B[38;5;124m'\u001B[39m\u001B[38;5;124mmaxCycles\u001B[39m\u001B[38;5;124m'\u001B[39m] \u001B[38;5;241m=\u001B[39m \u001B[38;5;28mint\u001B[39m(\u001B[38;5;241m900\u001B[39m\u001B[38;5;241m*\u001B[39mcycles_per_day)\n\u001B[1;32m----> 6\u001B[0m batch_test\u001B[38;5;241m.\u001B[39mrun()\n\u001B[0;32m      7\u001B[0m phase_1 \u001B[38;5;241m=\u001B[39m pd\u001B[38;5;241m.\u001B[39mDataFrame({\u001B[38;5;124m'\u001B[39m\u001B[38;5;124mAncestor\u001B[39m\u001B[38;5;124m'\u001B[39m : batch_test\u001B[38;5;241m.\u001B[39mtotal_biomass\u001B[38;5;241m.\u001B[39mAncestor\u001B[38;5;241m/\u001B[39m(\u001B[38;5;241m3.9e-13\u001B[39m),\n\u001B[0;32m      8\u001B[0m                         \u001B[38;5;124m'\u001B[39m\u001B[38;5;124mCitT\u001B[39m\u001B[38;5;124m'\u001B[39m : batch_test\u001B[38;5;241m.\u001B[39mtotal_biomass[\u001B[38;5;124m'\u001B[39m\u001B[38;5;124mCit+\u001B[39m\u001B[38;5;124m'\u001B[39m]\u001B[38;5;241m/\u001B[39m(\u001B[38;5;241m3.9e-13\u001B[39m),\n\u001B[0;32m      9\u001B[0m                         \u001B[38;5;124m'\u001B[39m\u001B[38;5;124mCitTdctA\u001B[39m\u001B[38;5;124m'\u001B[39m : batch_test\u001B[38;5;241m.\u001B[39mtotal_biomass[\u001B[38;5;124m'\u001B[39m\u001B[38;5;124mCit++\u001B[39m\u001B[38;5;124m'\u001B[39m]\u001B[38;5;241m/\u001B[39m(\u001B[38;5;241m3.9e-13\u001B[39m),\n\u001B[0;32m     10\u001B[0m                         \u001B[38;5;124m'\u001B[39m\u001B[38;5;124mGenerations\u001B[39m\u001B[38;5;124m'\u001B[39m : \u001B[38;5;241m6.67\u001B[39m\u001B[38;5;241m*\u001B[39m(batch_test\u001B[38;5;241m.\u001B[39mtotal_biomass\u001B[38;5;241m.\u001B[39mcycle\u001B[38;5;241m+\u001B[39m\u001B[38;5;241m1\u001B[39m)\u001B[38;5;241m/\u001B[39mcycles_per_day \u001B[38;5;241m+\u001B[39m \u001B[38;5;241m25000\u001B[39m})\n\u001B[0;32m     12\u001B[0m \u001B[38;5;66;03m# At roughly Generation 31,000 we introduce the CitT genotype and run for around 2000 Generations\u001B[39;00m\n",
      "File \u001B[1;32m~\\.conda\\envs\\CarveMe\\Lib\\site-packages\\cometspy\\comets.py:362\u001B[0m, in \u001B[0;36mcomets.run\u001B[1;34m(self, delete_files)\u001B[0m\n\u001B[0;32m    359\u001B[0m c_package \u001B[38;5;241m=\u001B[39m \u001B[38;5;28mself\u001B[39m\u001B[38;5;241m.\u001B[39mworking_dir \u001B[38;5;241m+\u001B[39m \u001B[38;5;124m'\u001B[39m\u001B[38;5;124m.current_package\u001B[39m\u001B[38;5;124m'\u001B[39m \u001B[38;5;241m+\u001B[39m to_append\n\u001B[0;32m    360\u001B[0m c_script \u001B[38;5;241m=\u001B[39m \u001B[38;5;28mself\u001B[39m\u001B[38;5;241m.\u001B[39mworking_dir \u001B[38;5;241m+\u001B[39m \u001B[38;5;124m'\u001B[39m\u001B[38;5;124m.current_script\u001B[39m\u001B[38;5;124m'\u001B[39m \u001B[38;5;241m+\u001B[39m to_append\n\u001B[1;32m--> 362\u001B[0m \u001B[38;5;28mself\u001B[39m\u001B[38;5;241m.\u001B[39mlayout\u001B[38;5;241m.\u001B[39mwrite_necessary_files(\u001B[38;5;28mself\u001B[39m\u001B[38;5;241m.\u001B[39mworking_dir, to_append)\n\u001B[0;32m    364\u001B[0m \u001B[38;5;66;03m# self.layout.write_layout(self.working_dir + '.current_layout')\u001B[39;00m\n\u001B[0;32m    365\u001B[0m \u001B[38;5;28mself\u001B[39m\u001B[38;5;241m.\u001B[39mparameters\u001B[38;5;241m.\u001B[39mwrite_params(c_global, c_package)\n",
      "File \u001B[1;32m~\\.conda\\envs\\CarveMe\\Lib\\site-packages\\cometspy\\layout.py:634\u001B[0m, in \u001B[0;36mlayout.write_necessary_files\u001B[1;34m(self, working_dir, to_append)\u001B[0m\n\u001B[0;32m    614\u001B[0m \u001B[38;5;28;01mdef\u001B[39;00m \u001B[38;5;21mwrite_necessary_files\u001B[39m(\u001B[38;5;28mself\u001B[39m, working_dir : \u001B[38;5;28mstr\u001B[39m, to_append \u001B[38;5;241m=\u001B[39m \u001B[38;5;124m\"\u001B[39m\u001B[38;5;124m\"\u001B[39m):\n\u001B[0;32m    615\u001B[0m \u001B[38;5;250m    \u001B[39m\u001B[38;5;124;03m\"\"\"\u001B[39;00m\n\u001B[0;32m    616\u001B[0m \u001B[38;5;124;03m    writes the layout and the model files to file\u001B[39;00m\n\u001B[0;32m    617\u001B[0m \u001B[38;5;124;03m    \u001B[39;00m\n\u001B[1;32m   (...)\u001B[0m\n\u001B[0;32m    632\u001B[0m \n\u001B[0;32m    633\u001B[0m \u001B[38;5;124;03m    \"\"\"\u001B[39;00m\n\u001B[1;32m--> 634\u001B[0m     \u001B[38;5;28mself\u001B[39m\u001B[38;5;241m.\u001B[39m__check_if_initial_pops_in_range()\n\u001B[0;32m    635\u001B[0m     \u001B[38;5;28mself\u001B[39m\u001B[38;5;241m.\u001B[39mwrite_layout(working_dir, to_append)\n\u001B[0;32m    636\u001B[0m     \u001B[38;5;28mself\u001B[39m\u001B[38;5;241m.\u001B[39mwrite_model_files(working_dir)\n",
      "File \u001B[1;32m~\\.conda\\envs\\CarveMe\\Lib\\site-packages\\cometspy\\layout.py:1419\u001B[0m, in \u001B[0;36mlayout.__check_if_initial_pops_in_range\u001B[1;34m(self)\u001B[0m\n\u001B[0;32m   1417\u001B[0m \u001B[38;5;28;01mfor\u001B[39;00m m \u001B[38;5;129;01min\u001B[39;00m \u001B[38;5;28mself\u001B[39m\u001B[38;5;241m.\u001B[39mmodels:\n\u001B[0;32m   1418\u001B[0m     \u001B[38;5;28;01mfor\u001B[39;00m founder \u001B[38;5;129;01min\u001B[39;00m m\u001B[38;5;241m.\u001B[39minitial_pop:\n\u001B[1;32m-> 1419\u001B[0m         \u001B[38;5;28;01mif\u001B[39;00m (founder[\u001B[38;5;241m0\u001B[39m] \u001B[38;5;241m<\u001B[39m \u001B[38;5;241m0\u001B[39m) \u001B[38;5;129;01mor\u001B[39;00m (founder[\u001B[38;5;241m1\u001B[39m] \u001B[38;5;241m>\u001B[39m (\u001B[38;5;28mself\u001B[39m\u001B[38;5;241m.\u001B[39mgrid[\u001B[38;5;241m1\u001B[39m]\u001B[38;5;241m-\u001B[39m\u001B[38;5;241m1\u001B[39m)):\n\u001B[0;32m   1420\u001B[0m             message \u001B[38;5;241m=\u001B[39m \u001B[38;5;124m\"\u001B[39m\u001B[38;5;124mthe initial pop of a model is outside of layout.grid.\u001B[39m\u001B[38;5;124m\"\u001B[39m\n\u001B[0;32m   1421\u001B[0m             message \u001B[38;5;241m+\u001B[39m\u001B[38;5;241m=\u001B[39m \u001B[38;5;124mf\u001B[39m\u001B[38;5;124m\"\u001B[39m\u001B[38;5;124m Either increase layout.grid or adjust \u001B[39m\u001B[38;5;132;01m{\u001B[39;00mm\u001B[38;5;241m.\u001B[39mid\u001B[38;5;132;01m}\u001B[39;00m\u001B[38;5;124m'\u001B[39m\u001B[38;5;124ms initial_pop\u001B[39m\u001B[38;5;124m\"\u001B[39m\n",
      "\u001B[1;31mTypeError\u001B[0m: 'int' object is not subscriptable"
     ]
    }
   ],
   "source": [
    "cycles_per_day = 24.0/b_params.all_params['timeStep']\n",
    "\n",
    "# We'll start at Generation 25,000.  and run for around 6000 generations\n",
    "batch_test = c.comets(layout, b_params)\n",
    "batch_test.parameters.all_params['maxCycles'] = int(900*cycles_per_day)\n",
    "batch_test.run()\n",
    "phase_1 = pd.DataFrame({'Ancestor' : batch_test.total_biomass.Ancestor/(3.9e-13),\n",
    "                        'CitT' : batch_test.total_biomass['Cit+']/(3.9e-13),\n",
    "                        'CitTdctA' : batch_test.total_biomass['Cit++']/(3.9e-13),\n",
    "                        'Generations' : 6.67*(batch_test.total_biomass.cycle+1)/cycles_per_day + 25000})\n",
    "\n",
    "# At roughly Generation 31,000 we introduce the CitT genotype and run for around 2000 Generations\n",
    "batch_test.layout.models[0].initial_pop = [0, 0, float(batch_test.total_biomass.Ancestor.tail(1))]\n",
    "batch_test.layout.models[1].initial_pop = [0, 0, 3.9e-11]\n",
    "batch_test.layout.build_initial_pop()\n",
    "batch_test.parameters.set_param('maxCycles', int(300*cycles_per_day))\n",
    "batch_test.run()\n",
    "phase_2 = pd.DataFrame({'Ancestor' : batch_test.total_biomass.Ancestor/(3.9e-13),\n",
    "                        'CitT' : batch_test.total_biomass['Cit+']/(3.9e-13),\n",
    "                        'CitTdctA' : batch_test.total_biomass['Cit++']/(3.9e-13),\n",
    "                        'Generations' : 6.67*(batch_test.total_biomass.cycle)/cycles_per_day + max(phase_1.Generations)})\n",
    "\n",
    "# At roughly Generation 33,000 we introduce the CitTdctA Genotype and run for a final 6000 generationr \n",
    "batch_test.layout.models[0].initial_pop = [0, 0, float(batch_test.total_biomass.Ancestor.tail(1))]\n",
    "batch_test.layout.models[1].initial_pop = [0, 0, float(batch_test.total_biomass['Cit+'].tail(1))]\n",
    "batch_test.layout.models[2].initial_pop = [0, 0, 3.9e-11]\n",
    "batch_test.layout.build_initial_pop()\n",
    "batch_test.parameters.set_param('maxCycles', int(900*cycles_per_day))\n",
    "batch_test.run()\n",
    "phase_3 = pd.DataFrame({'Ancestor' : batch_test.total_biomass.Ancestor/(3.9e-13),\n",
    "                        'CitT' : batch_test.total_biomass['Cit+']/(3.9e-13),\n",
    "                        'CitTdctA' : batch_test.total_biomass['Cit++']/(3.9e-13),\n",
    "                        'Generations' : 6.67*(batch_test.total_biomass.cycle)/cycles_per_day + max(phase_2.Generations) })"
   ],
   "metadata": {
    "collapsed": false,
    "ExecuteTime": {
     "end_time": "2024-05-30T13:26:02.247225300Z",
     "start_time": "2024-05-30T13:26:00.320024700Z"
    }
   },
   "id": "d025ce1053c71edd",
   "execution_count": 5
  },
  {
   "cell_type": "markdown",
   "source": [
    "将三次运行的所有结果组合在一起，并绘制随时间变化的固定相种群大小。"
   ],
   "metadata": {
    "collapsed": false
   },
   "id": "13e0ef06d55ccf4e"
  },
  {
   "cell_type": "code",
   "outputs": [],
   "source": [
    "#Remove the final timepoint from each phase\n",
    "phase_1.drop(phase_1.tail(1).index, inplace=True)\n",
    "phase_2.drop(phase_2.tail(1).index, inplace=True)\n",
    "phase_3.drop(phase_3.tail(1).index, inplace=True)\n",
    "\n",
    "final_df = pd.concat([phase_1,phase_2,phase_3])\n",
    "final_df.reindex()\n",
    "final_df = final_df[np.round((final_df.Generations - 25000) % 6.67,3) == 6.67]"
   ],
   "metadata": {
    "collapsed": false,
    "ExecuteTime": {
     "start_time": "2024-05-30T13:17:43.010477500Z"
    }
   },
   "id": "75d8cc0be18b86af"
  }
 ],
 "metadata": {
  "kernelspec": {
   "display_name": "Python 3",
   "language": "python",
   "name": "python3"
  },
  "language_info": {
   "codemirror_mode": {
    "name": "ipython",
    "version": 2
   },
   "file_extension": ".py",
   "mimetype": "text/x-python",
   "name": "python",
   "nbconvert_exporter": "python",
   "pygments_lexer": "ipython2",
   "version": "2.7.6"
  }
 },
 "nbformat": 4,
 "nbformat_minor": 5
}

{
 "cells": [
  {
   "cell_type": "markdown",
   "source": [
    "# 竞争实验在实验室中常被用来检测\n",
    "例如某种突变体相对于野生型菌株的适应度。在这里，我们模拟了一个这样的实验，涉及到大肠杆菌及其一种非必需但有害的突变——从糖酵解途径中删除己糖磷酸异构酶反应。在这种竞争排除实验中，通过连续传代的方式观察突变株与野生型菌株的竞争表现。"
   ],
   "metadata": {
    "collapsed": false
   },
   "id": "630a000c954f51b4"
  },
  {
   "cell_type": "markdown",
   "source": [
    "# 加载模型并创建突变体\n",
    "首先，我们加载“核心”大肠杆菌模型，并通过将己糖磷酸异构酶反应的上下界均设置为零来创建突变体。接着，我们将原始模型和突变体模型都添加到我们的试管环境布局中。"
   ],
   "metadata": {
    "collapsed": false
   },
   "id": "988a6d956e8b9d8b"
  },
  {
   "cell_type": "code",
   "outputs": [],
   "source": [
    "# Start by loading required packages, including the COMETS toolbox\n",
    "import cometspy as c\n",
    "import cobra.io\n",
    "import pandas as pd\n",
    "import matplotlib.pyplot as plt\n",
    "\n",
    "# load the models and perform the mutation\n",
    "wt = c.model(cobra.io.load_model(\"ecoli\"))\n",
    "wt.id = 'wt'\n",
    "mut = c.model(cobra.io.load_model(\"ecoli\"))\n",
    "mut.change_bounds('TPI', 0,0)\n",
    "mut.id = 'TPI_KO'\n",
    "\n",
    "# set its initial biomass, 5e-6 gr at coordinate [0,0]\n",
    "wt.initial_pop = [0, 0, 5e-8]\n",
    "mut.initial_pop = [0, 0, 5e-8]"
   ],
   "metadata": {
    "collapsed": false
   },
   "id": "3c88b894b463c9"
  },
  {
   "cell_type": "markdown",
   "source": [
    "# 创建布局、添加模型和设置媒体合成\n",
    "我们创建一个空布局（“test_tube”）并设置初始营养供应。"
   ],
   "metadata": {
    "collapsed": false
   },
   "id": "4fb7eb6037ad4d4e"
  },
  {
   "cell_type": "code",
   "outputs": [],
   "source": [
    "# create an empty layout\n",
    "test_tube = c.layout()\n",
    "\n",
    "# add the models to the test tube\n",
    "test_tube.add_model(wt)\n",
    "test_tube.add_model(mut)"
   ],
   "metadata": {
    "collapsed": false
   },
   "id": "d8684543b940bf4e"
  },
  {
   "cell_type": "markdown",
   "source": [
    "设置培养基组成，向其中添加葡萄糖以及该模型所需的无机营养物质（如氨、磷酸盐）和氧气。在模拟中，这些无机营养物质被视为“静态”的，它们的值设为1000，并且永远不会耗尽。在COMETS模拟中，将代谢物视为“静态”是一种模拟无限供应代谢物的方法。"
   ],
   "metadata": {
    "collapsed": false
   },
   "id": "3db71e60e7236a2b"
  },
  {
   "cell_type": "code",
   "outputs": [],
   "source": [
    "# Add glucose to the media \n",
    "test_tube.set_specific_metabolite('glc__D_e', 0.01)\n",
    "\n",
    "# Add typical trace metabolites and oxygen coli as static\n",
    "trace_metabolites = ['ca2_e', 'cl_e', 'cobalt2_e', 'cu2_e', 'fe2_e', 'fe3_e', 'h_e', 'k_e', 'h2o_e', 'mg2_e',\n",
    "                     'mn2_e', 'mobd_e', 'na1_e', 'ni2_e', 'nh4_e', 'o2_e', 'pi_e', 'so4_e', 'zn2_e']\n",
    "\n",
    "for i in trace_metabolites:\n",
    "    test_tube.set_specific_metabolite(i, 1000)\n",
    "    test_tube.set_specific_static(i, 1000)"
   ],
   "metadata": {
    "collapsed": false
   },
   "id": "d1895b46369cb099"
  },
  {
   "cell_type": "markdown",
   "source": [
    "# 设置仿真参数\n",
    "接下来，我们创建一个参数对象并修改所需的参数 - 在本例中，仅修改模拟运行的周期数。"
   ],
   "metadata": {
    "collapsed": false
   },
   "id": "ac16d387f8fecbd2"
  },
  {
   "cell_type": "code",
   "outputs": [],
   "source": [
    "comp_params = c.params()\n",
    "comp_params.set_param('maxCycles', 240)"
   ],
   "metadata": {
    "collapsed": false
   },
   "id": "b31efb5dcb641046"
  },
  {
   "cell_type": "markdown",
   "source": [
    "# 运行模拟\n",
    "最后，我们使用上面创建的布局和参数创建comets对象，并运行竞争分析。"
   ],
   "metadata": {
    "collapsed": false
   },
   "id": "10ae2b6a63d0b514"
  },
  {
   "cell_type": "code",
   "outputs": [],
   "source": [
    "comp_assay = c.comets(test_tube, comp_params)\n",
    "comp_assay.run()"
   ],
   "metadata": {
    "collapsed": false
   },
   "id": "9027101496f24c6b"
  },
  {
   "cell_type": "markdown",
   "source": [
    "我们现在绘制了这两种基因型在共培养中的生物量。"
   ],
   "metadata": {
    "collapsed": false
   },
   "id": "773ccbbb478c6872"
  },
  {
   "cell_type": "code",
   "outputs": [],
   "source": [
    "biomass = comp_assay.total_biomass\n",
    "biomass['t'] = biomass['cycle'] * comp_assay.parameters.all_params['timeStep']\n",
    "\n",
    "myplot = biomass.drop(columns=['cycle']).plot(x = 't')\n",
    "myplot.set_ylabel(\"Biomass (gr.)\")"
   ],
   "metadata": {
    "collapsed": false
   },
   "id": "9487bd5c7ff1b28b"
  },
  {
   "cell_type": "markdown",
   "source": [
    "我们可以对结果进行定量分析。例如，我们可以计算突变体相对于野生型的竞争适应度，即突变体的生物量增加除以野生型的生物量增加的比率："
   ],
   "metadata": {
    "collapsed": false
   },
   "id": "a5fc9fd9db3bf802"
  },
  {
   "cell_type": "code",
   "outputs": [],
   "source": [
    "cfit = (biomass.loc[biomass['t'] == 24, 'TPI_KO'].iloc[0]/biomass.loc[biomass['t'] == 0, 'TPI_KO'].iloc[0])/(biomass.loc[biomass['t'] == 24, 'wt'].iloc[0]/biomass.loc[biomass['t'] == 0, 'wt'].iloc[0])\n",
    "cfit"
   ],
   "metadata": {
    "collapsed": false
   },
   "id": "936d5864a56c4d0b"
  },
  {
   "cell_type": "markdown",
   "source": [
    "# 模拟串行传输\n",
    "利用COMETS工具，我们还可以模拟这两种突变体之间的连续转移竞争。我们只需调整参数，增加总的模拟时间，并在每24小时设置一次1%的小批量转移，但我们将沿用之前的test_tube环境布局。"
   ],
   "metadata": {
    "collapsed": false
   },
   "id": "564f4b7c9f245262"
  },
  {
   "cell_type": "code",
   "outputs": [],
   "source": [
    "serial_params = c.params()\n",
    "serial_params.set_param('maxCycles', 240*25) # simulate 4 serial transfers of 24h each\n",
    "serial_params.set_param('batchDilution', True)\n",
    "serial_params.set_param('dilFactor', 0.01)\n",
    "serial_params.set_param('dilTime', 24)"
   ],
   "metadata": {
    "collapsed": false
   },
   "id": "9e5ee23f46497a18"
  },
  {
   "cell_type": "markdown",
   "source": [
    "我们运行模拟"
   ],
   "metadata": {
    "collapsed": false
   },
   "id": "83f6ce0b47345231"
  },
  {
   "cell_type": "code",
   "outputs": [],
   "source": [
    "serial_expt = c.comets(test_tube, serial_params)\n",
    "serial_expt.JAVA_CLASSPATH = comp_assay.JAVA_CLASSPATH\n",
    "serial_expt.run()"
   ],
   "metadata": {
    "collapsed": false
   },
   "id": "136da0abd5e35980"
  },
  {
   "cell_type": "markdown",
   "source": [
    "现在绘制实验期间两个物种的生物量"
   ],
   "metadata": {
    "collapsed": false
   },
   "id": "f3ab4754aacf8189"
  },
  {
   "cell_type": "code",
   "outputs": [],
   "source": [
    "biomass = serial_expt.total_biomass\n",
    "biomass['transfer'] = biomass['cycle'] * comp_assay.parameters.all_params['timeStep']/24\n",
    "\n",
    "myplot = biomass.drop(columns=['cycle']).plot(x = 'transfer')\n",
    "myplot.set_ylabel(\"Biomass (gr.)\")"
   ],
   "metadata": {
    "collapsed": false
   },
   "id": "7145b075f45f6a3"
  }
 ],
 "metadata": {
  "kernelspec": {
   "display_name": "Python 3",
   "language": "python",
   "name": "python3"
  },
  "language_info": {
   "codemirror_mode": {
    "name": "ipython",
    "version": 2
   },
   "file_extension": ".py",
   "mimetype": "text/x-python",
   "name": "python",
   "nbconvert_exporter": "python",
   "pygments_lexer": "ipython2",
   "version": "2.7.6"
  }
 },
 "nbformat": 4,
 "nbformat_minor": 5
}

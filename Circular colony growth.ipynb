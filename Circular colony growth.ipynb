{
 "cells": [
  {
   "cell_type": "markdown",
   "source": [
    "# 模拟细菌菌落在平面上的生长和繁殖：圆形菌落\n",
    "该协议复现了主要文本中的模拟程序，该程序通过生长细胞间的机械推动来模拟菌落扩张现象。所实现模型的一个特点是，其菌落形态会随着密集堆积参数的不同值发生转变。在这个协议中，我们将选择一组参数，使得模拟得到的是圆形菌落形态。而在“分支菌落”场景中，我们将选取能够导致菌落呈现分支状生长的参数。\n",
    "\n",
    "此外，我们还将展示如何从单一种营养物的摄取构建一个简单的代谢模型，并只包含一个与生物量增长相关的反应。\n",
    "\n",
    "值得注意的是，尽管在论文中使用的布局较大，但在本操作中我们会将其设计得小很多，这样可以大大加快运行速度。"
   ],
   "metadata": {
    "collapsed": false
   },
   "id": "30f42d641aaa3042"
  },
  {
   "cell_type": "code",
   "outputs": [],
   "source": [
    "import cobra\n",
    "import cobra.io # for the ijo1366 model\n",
    "import sys\n",
    "import numpy as np\n",
    "import cometspy as c"
   ],
   "metadata": {
    "collapsed": false,
    "ExecuteTime": {
     "end_time": "2024-04-11T12:21:21.764662900Z",
     "start_time": "2024-04-11T12:21:18.292034Z"
    }
   },
   "id": "533971e6c4b0f2e5",
   "execution_count": 1
  },
  {
   "cell_type": "markdown",
   "source": [
    "首先，让我们使用cobrapy的功能制作一个“toy”模型。它直接将细胞外碳转化为生物质。"
   ],
   "metadata": {
    "collapsed": false
   },
   "id": "f92fa2e9c4566acd"
  },
  {
   "cell_type": "code",
   "outputs": [],
   "source": [
    "carbon = cobra.Metabolite(\"carbon\",\n",
    "                           compartment = \"e\")\n",
    "carbon_exch = cobra.Reaction(\"Carbon_exch\",\n",
    "                            lower_bound = -1.,\n",
    "                            upper_bound = 1000.)\n",
    "carbon_exch.add_metabolites({carbon: -1.})\n",
    "Biomass = cobra.Reaction(\"Biomass\",\n",
    "                        lower_bound = 0.,\n",
    "                        upper_bound = 1000.)\n",
    "Biomass.add_metabolites({carbon: -1.})\n",
    "toy = cobra.Model(\"toy\")\n",
    "toy.add_reactions([carbon_exch, Biomass])\n",
    "#toy.add_reactions([carbon_exch, carbon_transport, Biomass])\n",
    "toy.objective = \"Biomass\"\n",
    "toy.repair()"
   ],
   "metadata": {
    "collapsed": false,
    "ExecuteTime": {
     "end_time": "2024-04-11T12:21:21.777450100Z",
     "start_time": "2024-04-11T12:21:21.769518200Z"
    }
   },
   "id": "2dd67b1b1ba1c1e9",
   "execution_count": 2
  },
  {
   "cell_type": "markdown",
   "source": [
    "我们可以通过在 cobrapy 中执行 FBA 来测试模型是否运行。它产生的生物量应该与carbon_exch的下限一样多。\n",
    "\n"
   ],
   "metadata": {
    "collapsed": false
   },
   "id": "ee7ee6bfee0024c3"
  },
  {
   "cell_type": "code",
   "outputs": [
    {
     "name": "stdout",
     "output_type": "stream",
     "text": [
      "{'Carbon_exch': 1.0}\n",
      "1.0\n"
     ]
    }
   ],
   "source": [
    "print(toy.medium)\n",
    "print(toy.optimize().objective_value)"
   ],
   "metadata": {
    "collapsed": false,
    "ExecuteTime": {
     "end_time": "2024-04-11T12:21:27.561841300Z",
     "start_time": "2024-04-11T12:21:27.553242Z"
    }
   },
   "id": "6c7e801fe9a562cc",
   "execution_count": 3
  },
  {
   "cell_type": "markdown",
   "source": [
    "现在，我们将将其转换为COMETS模型，设置其初始生物量，并设置第一组对流参数。这些是用这个玩具模型获得圆形菌落所需的参数。请注意，对于这种形式的生物质传播，时间步长必须设置得非常低。"
   ],
   "metadata": {
    "collapsed": false
   },
   "id": "3bf6b95180aef13d"
  },
  {
   "cell_type": "code",
   "outputs": [
    {
     "name": "stderr",
     "output_type": "stream",
     "text": [
      "C:\\Users\\99374\\.conda\\envs\\CarveMe\\Lib\\site-packages\\cometspy\\model.py:623: FutureWarning: The behavior of DataFrame concatenation with empty or all-NA entries is deprecated. In a future version, this will no longer exclude empty or all-NA columns when determining the result dtypes. To retain the old behavior, exclude the relevant entries before the concat operation.\n",
      "  self.smat = pd.concat([self.smat, cdf])\n",
      "C:\\Users\\99374\\.conda\\envs\\CarveMe\\Lib\\site-packages\\cometspy\\model.py:636: FutureWarning: Calling int on a single element Series is deprecated and will raise a TypeError in the future. Use int(ser.iloc[0]) instead\n",
      "  self.objective = [int(self.reactions[self.reactions.\n"
     ]
    }
   ],
   "source": [
    "grid_size = 50\n",
    "\n",
    "toy_comets = c.model(toy)\n",
    "toy_comets.initial_pop = [int(grid_size / 2),int(grid_size / 2),1.0]\n",
    "toy_comets.reactions.loc[toy_comets.reactions.EXCH, \"LB\"] = -1000\n",
    "toy_comets.add_convection_parameters(packedDensity = 0.5,\n",
    "                                    elasticModulus = 1.e-4,\n",
    "                                    frictionConstant = 1.0,\n",
    "                                    convDiffConstant = 0.0)\n",
    "toy_comets.add_noise_variance_parameter(20.)"
   ],
   "metadata": {
    "collapsed": false,
    "ExecuteTime": {
     "end_time": "2024-04-11T12:21:31.660409100Z",
     "start_time": "2024-04-11T12:21:31.585557300Z"
    }
   },
   "id": "df548a9e1fbb1ee3",
   "execution_count": 4
  },
  {
   "cell_type": "markdown",
   "source": [
    "我们确保COMETS模型不将生物质反应视为交换。\n",
    "\n"
   ],
   "metadata": {
    "collapsed": false
   },
   "id": "b7b1d3fe91599484"
  },
  {
   "cell_type": "code",
   "outputs": [],
   "source": [
    "toy_comets.reactions.loc[toy_comets.reactions.REACTION_NAMES == \"Biomass\",\"EXCH\"] = False\n",
    "toy_comets.reactions.loc[toy_comets.reactions.REACTION_NAMES == \"Biomass\",\"EXCH_IND\"] = 0\n",
    "toy_comets.reactions.loc[toy_comets.reactions.REACTION_NAMES == \"Biomass\", \"LB\"] = 0"
   ],
   "metadata": {
    "collapsed": false,
    "ExecuteTime": {
     "end_time": "2024-04-11T12:21:36.676003800Z",
     "start_time": "2024-04-11T12:21:36.669275800Z"
    }
   },
   "id": "bc92ccd4a6d061d9",
   "execution_count": 5
  },
  {
   "cell_type": "markdown",
   "source": [
    "本次模拟的布局将在一个100x100网格上设立单一、居中的菌落。碳源将会在整个区域内均匀分布。"
   ],
   "metadata": {
    "collapsed": false
   },
   "id": "10cf79b9f03977fa"
  },
  {
   "cell_type": "code",
   "outputs": [
    {
     "name": "stderr",
     "output_type": "stream",
     "text": [
      "C:\\Users\\99374\\.conda\\envs\\CarveMe\\Lib\\site-packages\\cometspy\\layout.py:1361: FutureWarning: The behavior of DataFrame concatenation with empty or all-NA entries is deprecated. In a future version, this will no longer exclude empty or all-NA columns when determining the result dtypes. To retain the old behavior, exclude the relevant entries before the concat operation.\n",
      "  self.media = pd.concat([self.media, new_row],\n"
     ]
    }
   ],
   "source": [
    "ly = c.layout([toy_comets])\n",
    "ly.grid = [grid_size, grid_size]\n",
    "ly.set_specific_metabolite(\"carbon\", 1.)"
   ],
   "metadata": {
    "collapsed": false,
    "ExecuteTime": {
     "end_time": "2024-04-11T12:21:38.332734400Z",
     "start_time": "2024-04-11T12:21:38.316913300Z"
    }
   },
   "id": "a6841d6a6ddc5fde",
   "execution_count": 6
  },
  {
   "cell_type": "markdown",
   "source": [
    "我们需要设置的主要参数是“biomassmotionstyle”，必须将其设置为“Convection 2D”。为了捕捉空间信息，除了记录总生物量外，我们还会记录个体生物量的变化。最后，我们还会调整一些其他参数。这些参数都被存储在一个名为all_params的字典中。"
   ],
   "metadata": {
    "collapsed": false
   },
   "id": "4eeb2c5eac35f017"
  },
  {
   "cell_type": "code",
   "outputs": [],
   "source": [
    "p = c.params()\n",
    "\n",
    "p.set_param(\"biomassMotionStyle\", \"Convection 2D\")\n",
    "p.set_param(\"writeBiomassLog\", True)\n",
    "p.set_param(\"BiomassLogRate\", 100)\n",
    "p.set_param(\"maxCycles\", 2000)\n",
    "p.set_param(\"timeStep\", 0.0005)\n",
    "p.set_param(\"spaceWidth\", 1)\n",
    "p.set_param(\"maxSpaceBiomass\", 10)\n",
    "p.set_param(\"minSpaceBiomass\", 0.25e-10)\n",
    "p.set_param(\"allowCellOverlap\", True)\n",
    "p.set_param(\"growthDiffRate\", 0)\n",
    "p.set_param(\"flowDiffRate\", 3e-9)\n",
    "p.set_param(\"exchangestyle\", \"Monod Style\")\n",
    "p.set_param(\"defaultKm\", 0.01)\n",
    "p.set_param(\"defaultHill\", 1)\n",
    "p.set_param(\"defaultVmax\", 100)"
   ],
   "metadata": {
    "collapsed": false,
    "ExecuteTime": {
     "end_time": "2024-04-11T12:21:46.142287300Z",
     "start_time": "2024-04-11T12:21:46.136951400Z"
    }
   },
   "id": "1f56a85e0e5c72d6",
   "execution_count": 7
  },
  {
   "cell_type": "markdown",
   "source": [
    "现在我们制作一个模拟对象并运行它。这可能需要一段时间."
   ],
   "metadata": {
    "collapsed": false
   },
   "id": "5cc598d9497d2c98"
  },
  {
   "cell_type": "code",
   "outputs": [
    {
     "name": "stdout",
     "output_type": "stream",
     "text": [
      "\n",
      "Running COMETS simulation ...\n"
     ]
    },
    {
     "ename": "UnicodeDecodeError",
     "evalue": "'utf-8' codec can't decode byte 0xd5 in position 316: invalid continuation byte",
     "output_type": "error",
     "traceback": [
      "\u001B[1;31m---------------------------------------------------------------------------\u001B[0m",
      "\u001B[1;31mUnicodeDecodeError\u001B[0m                        Traceback (most recent call last)",
      "Cell \u001B[1;32mIn[8], line 2\u001B[0m\n\u001B[0;32m      1\u001B[0m sim \u001B[38;5;241m=\u001B[39m c\u001B[38;5;241m.\u001B[39mcomets(ly, p)\n\u001B[1;32m----> 2\u001B[0m sim\u001B[38;5;241m.\u001B[39mrun()\n",
      "File \u001B[1;32m~\\.conda\\envs\\CarveMe\\Lib\\site-packages\\cometspy\\comets.py:392\u001B[0m, in \u001B[0;36mcomets.run\u001B[1;34m(self, delete_files)\u001B[0m\n\u001B[0;32m    387\u001B[0m p \u001B[38;5;241m=\u001B[39m sp\u001B[38;5;241m.\u001B[39mPopen(\u001B[38;5;28mself\u001B[39m\u001B[38;5;241m.\u001B[39mcmd,\n\u001B[0;32m    388\u001B[0m              cwd \u001B[38;5;241m=\u001B[39m \u001B[38;5;28mself\u001B[39m\u001B[38;5;241m.\u001B[39mworking_dir,\n\u001B[0;32m    389\u001B[0m              shell\u001B[38;5;241m=\u001B[39m\u001B[38;5;28;01mTrue\u001B[39;00m, stdout\u001B[38;5;241m=\u001B[39msp\u001B[38;5;241m.\u001B[39mPIPE, stderr\u001B[38;5;241m=\u001B[39msp\u001B[38;5;241m.\u001B[39mSTDOUT)\n\u001B[0;32m    391\u001B[0m \u001B[38;5;28mself\u001B[39m\u001B[38;5;241m.\u001B[39mrun_output, \u001B[38;5;28mself\u001B[39m\u001B[38;5;241m.\u001B[39mrun_errors \u001B[38;5;241m=\u001B[39m p\u001B[38;5;241m.\u001B[39mcommunicate()\n\u001B[1;32m--> 392\u001B[0m \u001B[38;5;28mself\u001B[39m\u001B[38;5;241m.\u001B[39mrun_output \u001B[38;5;241m=\u001B[39m \u001B[38;5;28mself\u001B[39m\u001B[38;5;241m.\u001B[39mrun_output\u001B[38;5;241m.\u001B[39mdecode()\n\u001B[0;32m    394\u001B[0m \u001B[38;5;28;01mif\u001B[39;00m \u001B[38;5;28mself\u001B[39m\u001B[38;5;241m.\u001B[39mrun_errors \u001B[38;5;129;01mis\u001B[39;00m \u001B[38;5;129;01mnot\u001B[39;00m \u001B[38;5;28;01mNone\u001B[39;00m:\n\u001B[0;32m    395\u001B[0m     \u001B[38;5;28mself\u001B[39m\u001B[38;5;241m.\u001B[39mrun_errors \u001B[38;5;241m=\u001B[39m \u001B[38;5;28mself\u001B[39m\u001B[38;5;241m.\u001B[39mrun_errors\u001B[38;5;241m.\u001B[39mdecode()\n",
      "\u001B[1;31mUnicodeDecodeError\u001B[0m: 'utf-8' codec can't decode byte 0xd5 in position 316: invalid continuation byte"
     ]
    }
   ],
   "source": [
    "sim = c.comets(ly, p)\n",
    "sim.run() # set delete_files = False to maintain all comets-generated files"
   ],
   "metadata": {
    "collapsed": false,
    "ExecuteTime": {
     "end_time": "2024-04-11T12:21:49.721205Z",
     "start_time": "2024-04-11T12:21:47.665608Z"
    }
   },
   "id": "e037a0b25f485d0a",
   "execution_count": 8
  },
  {
   "cell_type": "markdown",
   "source": [
    "现在让我们绘制结果图。我们使用辅助脚本“get_biomass_image”，它需要模型的名称和时间步长。然后我们使用 matplotlib 来显示它。"
   ],
   "metadata": {
    "collapsed": false
   },
   "id": "657a76904d6eb13b"
  },
  {
   "cell_type": "code",
   "outputs": [
    {
     "ename": "AttributeError",
     "evalue": "'comets' object has no attribute 'biomass'",
     "output_type": "error",
     "traceback": [
      "\u001B[1;31m---------------------------------------------------------------------------\u001B[0m",
      "\u001B[1;31mAttributeError\u001B[0m                            Traceback (most recent call last)",
      "Cell \u001B[1;32mIn[9], line 1\u001B[0m\n\u001B[1;32m----> 1\u001B[0m im \u001B[38;5;241m=\u001B[39m sim\u001B[38;5;241m.\u001B[39mget_biomass_image(\u001B[38;5;124m'\u001B[39m\u001B[38;5;124mtoy\u001B[39m\u001B[38;5;124m'\u001B[39m, \u001B[38;5;241m2000\u001B[39m)\n\u001B[0;32m      2\u001B[0m \u001B[38;5;28;01mfrom\u001B[39;00m \u001B[38;5;21;01mmatplotlib\u001B[39;00m \u001B[38;5;28;01mimport\u001B[39;00m pyplot \u001B[38;5;28;01mas\u001B[39;00m plt\n\u001B[0;32m      3\u001B[0m \u001B[38;5;28;01mimport\u001B[39;00m \u001B[38;5;21;01mmatplotlib\u001B[39;00m\u001B[38;5;21;01m.\u001B[39;00m\u001B[38;5;21;01mcolors\u001B[39;00m\u001B[38;5;241m,\u001B[39m \u001B[38;5;21;01mmatplotlib\u001B[39;00m\u001B[38;5;21;01m.\u001B[39;00m\u001B[38;5;21;01mcm\u001B[39;00m\n",
      "File \u001B[1;32m~\\.conda\\envs\\CarveMe\\Lib\\site-packages\\cometspy\\comets.py:661\u001B[0m, in \u001B[0;36mcomets.get_biomass_image\u001B[1;34m(self, model_id, cycle)\u001B[0m\n\u001B[0;32m    659\u001B[0m \u001B[38;5;28;01mif\u001B[39;00m \u001B[38;5;129;01mnot\u001B[39;00m \u001B[38;5;28mself\u001B[39m\u001B[38;5;241m.\u001B[39mparameters\u001B[38;5;241m.\u001B[39mall_params[\u001B[38;5;124m'\u001B[39m\u001B[38;5;124mwriteBiomassLog\u001B[39m\u001B[38;5;124m'\u001B[39m]:\n\u001B[0;32m    660\u001B[0m     \u001B[38;5;28;01mraise\u001B[39;00m \u001B[38;5;167;01mValueError\u001B[39;00m(\u001B[38;5;124m\"\u001B[39m\u001B[38;5;124mbiomass log was not recorded during simulation\u001B[39m\u001B[38;5;124m\"\u001B[39m)\n\u001B[1;32m--> 661\u001B[0m \u001B[38;5;28;01mif\u001B[39;00m model_id \u001B[38;5;129;01mnot\u001B[39;00m \u001B[38;5;129;01min\u001B[39;00m \u001B[38;5;28mlist\u001B[39m(np\u001B[38;5;241m.\u001B[39munique(\u001B[38;5;28mself\u001B[39m\u001B[38;5;241m.\u001B[39mbiomass[\u001B[38;5;124m'\u001B[39m\u001B[38;5;124mspecies\u001B[39m\u001B[38;5;124m'\u001B[39m])):\n\u001B[0;32m    662\u001B[0m     \u001B[38;5;28;01mraise\u001B[39;00m \u001B[38;5;167;01mNameError\u001B[39;00m(\u001B[38;5;124m\"\u001B[39m\u001B[38;5;124mmodel \u001B[39m\u001B[38;5;124m\"\u001B[39m \u001B[38;5;241m+\u001B[39m model\u001B[38;5;241m.\u001B[39mid \u001B[38;5;241m+\u001B[39m \u001B[38;5;124m\"\u001B[39m\u001B[38;5;124m is not one of the model ids\u001B[39m\u001B[38;5;124m\"\u001B[39m)\n\u001B[0;32m    663\u001B[0m \u001B[38;5;28;01mif\u001B[39;00m cycle \u001B[38;5;129;01mnot\u001B[39;00m \u001B[38;5;129;01min\u001B[39;00m \u001B[38;5;28mlist\u001B[39m(np\u001B[38;5;241m.\u001B[39munique(\u001B[38;5;28mself\u001B[39m\u001B[38;5;241m.\u001B[39mbiomass[\u001B[38;5;124m'\u001B[39m\u001B[38;5;124mcycle\u001B[39m\u001B[38;5;124m'\u001B[39m])):\n",
      "\u001B[1;31mAttributeError\u001B[0m: 'comets' object has no attribute 'biomass'"
     ]
    }
   ],
   "source": [
    "im = sim.get_biomass_image('toy', 2000)\n",
    "from matplotlib import pyplot as plt\n",
    "import matplotlib.colors, matplotlib.cm\n",
    "my_cmap = matplotlib.cm.get_cmap(\"copper\")\n",
    "my_cmap.set_bad((0,0,0))\n",
    "plt.imshow(im, norm = matplotlib.colors.LogNorm(), cmap = my_cmap)  "
   ],
   "metadata": {
    "collapsed": false,
    "ExecuteTime": {
     "end_time": "2024-04-11T12:21:54.637105300Z",
     "start_time": "2024-04-11T12:21:54.585421Z"
    }
   },
   "id": "8cdaf732b912714a",
   "execution_count": 9
  },
  {
   "cell_type": "markdown",
   "source": [
    "我们可以在一个简单的循环中平铺时间序列。"
   ],
   "metadata": {
    "collapsed": false
   },
   "id": "9ba92cf34943d41e"
  },
  {
   "cell_type": "code",
   "outputs": [],
   "source": [
    "big_image = np.zeros((grid_size * 4, grid_size * 5))\n",
    "im_cycles = np.arange(p.all_params[\"BiomassLogRate\"], p.all_params[\"maxCycles\"] + p.all_params[\"BiomassLogRate\"],\n",
    "                      p.all_params[\"BiomassLogRate\"])\n",
    "for i, cycle in enumerate(im_cycles):\n",
    "    big_image[(grid_size * int(i / 5)):(grid_size + grid_size * int(i / 5)),(grid_size * (i % 5)):(grid_size + grid_size * (i % 5))] = sim.get_biomass_image(\"toy\", cycle)"
   ],
   "metadata": {
    "collapsed": false
   },
   "id": "a9d26d634dedd72b"
  }
 ],
 "metadata": {
  "kernelspec": {
   "display_name": "Python 3",
   "language": "python",
   "name": "python3"
  },
  "language_info": {
   "codemirror_mode": {
    "name": "ipython",
    "version": 2
   },
   "file_extension": ".py",
   "mimetype": "text/x-python",
   "name": "python",
   "nbconvert_exporter": "python",
   "pygments_lexer": "ipython2",
   "version": "2.7.6"
  }
 },
 "nbformat": 4,
 "nbformat_minor": 5
}

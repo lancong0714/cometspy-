{
 "cells": [
  {
   "cell_type": "markdown",
   "source": [
    "# 在平坦表面上模拟细菌菌落的生长与传播：分支菌落\n",
    "该协议与模拟圆形菌落的协议完全相同，只是在COMETS模型中改动了几处参数，使得菌落呈现出分支生长的特征。"
   ],
   "metadata": {
    "collapsed": false
   },
   "id": "1d85a5561201a27"
  },
  {
   "cell_type": "code",
   "outputs": [],
   "source": [
    "import cobra\n",
    "import cobra.io # for the ijo1366 model\n",
    "import sys\n",
    "import numpy as np\n",
    "#sys.path.append(\"/home/jeremy/Dropbox/work_related/harcombe_lab/segre/cometspy\")\n",
    "import cometspy as c"
   ],
   "metadata": {
    "collapsed": false
   },
   "id": "56ceb42514477f92"
  },
  {
   "cell_type": "markdown",
   "source": [
    "首先，让我们使用cobrapy的功能制作一个“toy”模型。它直接将细胞外碳转化为生物质。"
   ],
   "metadata": {
    "collapsed": false
   },
   "id": "ff0c67a35a1b2325"
  },
  {
   "cell_type": "code",
   "outputs": [],
   "source": [
    "carbon = cobra.Metabolite(\"carbon\",\n",
    "                           compartment = \"e\")\n",
    "carbon_exch = cobra.Reaction(\"Carbon_exch\",\n",
    "                            lower_bound = -1.,\n",
    "                            upper_bound = 1000.)\n",
    "carbon_exch.add_metabolites({carbon: -1.})\n",
    "Biomass = cobra.Reaction(\"Biomass\",\n",
    "                        lower_bound = 0.,\n",
    "                        upper_bound = 1000.)\n",
    "Biomass.add_metabolites({carbon: -1.})\n",
    "toy = cobra.Model(\"toy\")\n",
    "toy.add_reactions([carbon_exch, Biomass])\n",
    "toy.objective = \"Biomass\"\n",
    "toy.repair()"
   ],
   "metadata": {
    "collapsed": false
   },
   "id": "b30494c58e82b90f"
  },
  {
   "cell_type": "markdown",
   "source": [
    "我们可以通过在cobrapy中进行FBA（ Flux Balance Analysis）测试来验证模型能否运行。理论上，模型应能生成不低于碳交换通量下限的生物量（carbon_exch）。"
   ],
   "metadata": {
    "collapsed": false
   },
   "id": "91bb0200571a4a2a"
  },
  {
   "cell_type": "code",
   "outputs": [],
   "source": [
    "print(toy.medium)\n",
    "print(toy.optimize().objective_value)"
   ],
   "metadata": {
    "collapsed": false
   },
   "id": "c58ea484efbfb030"
  },
  {
   "cell_type": "markdown",
   "source": [
    "我们现在将此模型转化为COMETS模型，并设置其初始生物量，以及第一组对流参数。这些参数是为了使用该简化模型获得分支状菌落所必需的。请注意，对于这种形式的生物量扩散，需要将时间步长设置得非常小。"
   ],
   "metadata": {
    "collapsed": false
   },
   "id": "297e94b1c3deebf1"
  },
  {
   "cell_type": "code",
   "outputs": [],
   "source": [
    "grid_size = 30\n",
    "\n",
    "toy_comets = c.model(toy)\n",
    "toy_comets.initial_pop = [int(grid_size / 2),int(grid_size / 2),1.0]\n",
    "toy_comets.open_exchanges()\n",
    "toy_comets.add_convection_parameters(packedDensity = 1.2,\n",
    "                                    elasticModulus = 5.e-3,\n",
    "                                    frictionConstant = 1.0,\n",
    "                                    convDiffConstant = 0.0)\n",
    "toy_comets.add_noise_variance_parameter(20.)"
   ],
   "metadata": {
    "collapsed": false
   },
   "id": "b42799c4b8d6665"
  },
  {
   "cell_type": "markdown",
   "source": [
    "我们要确保COMETS模型不将生物量反应视为交换反应。"
   ],
   "metadata": {
    "collapsed": false
   },
   "id": "d0ddc50ad3bc233f"
  },
  {
   "cell_type": "code",
   "outputs": [],
   "source": [
    "toy_comets.reactions.loc[toy_comets.reactions.REACTION_NAMES == \"Biomass\",\"EXCH\"] = False\n",
    "toy_comets.reactions.loc[toy_comets.reactions.REACTION_NAMES == \"Biomass\",\"EXCH_IND\"] = 0\n",
    "toy_comets.reactions.loc[toy_comets.reactions.REACTION_NAMES == \"Biomass\", \"LB\"] = 0"
   ],
   "metadata": {
    "collapsed": false
   },
   "id": "2d9a7f5248957594"
  },
  {
   "cell_type": "markdown",
   "source": [
    "此次模拟的布局是在100x100网格上构建一个居中单一群落。碳源会在该区域内均匀分布。"
   ],
   "metadata": {
    "collapsed": false
   },
   "id": "b027ae76a1a9de88"
  },
  {
   "cell_type": "code",
   "outputs": [],
   "source": [
    "ly = c.layout([toy_comets])\n",
    "ly.grid = [grid_size, grid_size]\n",
    "ly.set_specific_metabolite(\"carbon\", 1.)"
   ],
   "metadata": {
    "collapsed": false
   },
   "id": "68fa385780f35669"
  },
  {
   "cell_type": "markdown",
   "source": [
    "我们需要设置的关键参数是“biomassmotionstyle”，必须将其设置为“Convection 2D”。接下来，为了捕获空间信息，我们将记录生物量的具体分布（而不只是记录总体生物量）。最后，我们还会调整一些其他的参数。这些参数都存储在名为all_params的字典中。"
   ],
   "metadata": {
    "collapsed": false
   },
   "id": "daab90809f021e2d"
  },
  {
   "cell_type": "code",
   "outputs": [],
   "source": [
    "p = c.params()\n",
    "\n",
    "p.all_params[\"biomassMotionStyle\"] = \"Convection 2D\"\n",
    "p.all_params[\"writeBiomassLog\"] = True\n",
    "p.all_params[\"BiomassLogRate\"] = 500\n",
    "p.all_params[\"maxCycles\"] = 20000\n",
    "p.all_params[\"timeStep\"] = 0.00025\n",
    "p.all_params[\"spaceWidth\"] = 1\n",
    "p.all_params[\"maxSpaceBiomass\"] = 10\n",
    "p.all_params[\"minSpaceBiomass\"] = 0.25e-10\n",
    "p.all_params[\"allowCellOverlap\"] = True\n",
    "p.all_params[\"growthDiffRate\"] = 0\n",
    "p.all_params[\"flowDiffRate\"] = 3e-9\n",
    "p.all_params[\"exchangestyle\"] = \"Monod Style\"\n",
    "p.all_params[\"defaultKm\"] = 0.01\n",
    "p.all_params[\"defaultHill\"] = 1\n",
    "p.all_params[\"defaultVmax\"] = 100"
   ],
   "metadata": {
    "collapsed": false
   },
   "id": "80384de8220f325e"
  },
  {
   "cell_type": "markdown",
   "source": [
    "现在我们制作一个模拟对象并运行它。这可能需要一段时间。"
   ],
   "metadata": {
    "collapsed": false
   },
   "id": "56328df510897c5d"
  },
  {
   "cell_type": "code",
   "outputs": [],
   "source": [
    "sim = c.comets(ly, p)\n",
    "# this should all be removable once the installer is made with dependencies in a predictable location\n",
    "sim.set_classpath(\"concurrent\", \"/opt/colt/lib/concurrent.jar\")\n",
    "sim.set_classpath(\"colt\", \"/opt/colt/lib/colt.jar\")\n",
    "sim.set_classpath(\"lang3\", \"/opt/commons-lang3-3.9/commons-lang3-3.9.jar\")\n",
    "sim.set_classpath(\"jmatio\",\"/opt/jmatio/lib/jmatio.jar\")\n",
    "sim.set_classpath(\"math3\",\"/opt/commons-math3-3.6.1/commons-math3-3.6.1.jar\")\n",
    "sim.set_classpath(\"bin\",\"/home/jeremy/Dropbox/work_related/harcombe_lab/segre/jars/comets_2.10.0.jar\")\n",
    "sim.set_classpath(\"gurobi\",\"/opt/gurobi900/linux64/lib/gurobi.jar\")\n",
    "sim.set_classpath(\"jdistlib\", \"/opt/jdistlib-0.4.5-bin.jar\")\n",
    "\n",
    "sim.run(False) # use the argument delete_files = False to keep all COMETS-generated files"
   ],
   "metadata": {
    "collapsed": false
   },
   "id": "d72470f282341742"
  },
  {
   "cell_type": "markdown",
   "source": [
    "现在让我们绘制出结果。注意我们在指定轴标签时的操作，如果不明确指定，则会默认认为“cycle”、“x”和“y”是状态变量。\n",
    "\n",
    "我们观察到两种物种都能存活下来，这是因为LCTStex_KO突变体通过交叉喂养从galE_KO突变体那里获取半乳糖，而galE_KO突变体则利用乳糖中的葡萄糖部分。当达到平衡时，代谢产物正如在恒化器中的典型情况一样，浓度非常低。"
   ],
   "metadata": {
    "collapsed": false
   },
   "id": "53fcd10732c9568d"
  },
  {
   "cell_type": "code",
   "outputs": [],
   "source": [
    "im = sim.get_biomass_image('toy', 1500)\n",
    "from matplotlib import pyplot as plt\n",
    "import matplotlib.colors, matplotlib.cm\n",
    "my_cmap = matplotlib.cm.get_cmap(\"copper\")\n",
    "my_cmap.set_bad((0,0,0))\n",
    "plt.imshow(im, norm = matplotlib.colors.LogNorm(), cmap = my_cmap)"
   ],
   "metadata": {
    "collapsed": false
   },
   "id": "83310d46ab68772a"
  },
  {
   "cell_type": "code",
   "outputs": [],
   "source": [
    "big_image = np.zeros((grid_size * 8, grid_size * 5))\n",
    "im_cycles = np.arange(p.all_params[\"BiomassLogRate\"], p.all_params[\"maxCycles\"] + p.all_params[\"BiomassLogRate\"],\n",
    "                      p.all_params[\"BiomassLogRate\"])\n",
    "for i, cycle in enumerate(im_cycles):\n",
    "    big_image[(grid_size * int(i / 5)):(grid_size + grid_size * int(i / 5)),(grid_size * (i % 5)):(grid_size + grid_size * (i % 5))] = sim.get_biomass_image(\"toy\", cycle)\n",
    "    plt.imshow(big_image, norm = matplotlib.colors.LogNorm(), cmap = my_cmap)"
   ],
   "metadata": {
    "collapsed": false
   },
   "id": "a636ca45a6e64f2a"
  }
 ],
 "metadata": {
  "kernelspec": {
   "display_name": "Python 3",
   "language": "python",
   "name": "python3"
  },
  "language_info": {
   "codemirror_mode": {
    "name": "ipython",
    "version": 2
   },
   "file_extension": ".py",
   "mimetype": "text/x-python",
   "name": "python",
   "nbconvert_exporter": "python",
   "pygments_lexer": "ipython2",
   "version": "2.7.6"
  }
 },
 "nbformat": 4,
 "nbformat_minor": 5
}

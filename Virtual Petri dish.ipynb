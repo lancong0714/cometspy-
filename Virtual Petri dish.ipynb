{
 "cells": [
  {
   "cell_type": "markdown",
   "source": [
    "# 虚拟培养皿：生长、代谢物和通量的空间模拟和分析"
   ],
   "metadata": {
    "collapsed": false
   },
   "id": "368171ef5d8ec03e"
  },
  {
   "cell_type": "code",
   "outputs": [],
   "source": [
    "import cobra\n",
    "import cobra.io # for the e coli core model\n",
    "import sys\n",
    "import numpy as np\n",
    "#sys.path.append(\"/home/jeremy/Dropbox/work_related/harcombe_lab/segre/cometspy\") # not necessary if you pip install cometspy\n",
    "import cometspy as c\n",
    "from matplotlib import pyplot as plt\n"
   ],
   "metadata": {
    "collapsed": false
   },
   "id": "36c348d84bbb8a8c"
  },
  {
   "cell_type": "markdown",
   "source": [
    "我们将使用大肠杆菌核心模型（ E. coli core），该模型可在cobrapy中获取。"
   ],
   "metadata": {
    "collapsed": false
   },
   "id": "c563dd745bf999a3"
  },
  {
   "cell_type": "code",
   "outputs": [],
   "source": [
    "core = cobra.io.load_model('textbook')"
   ],
   "metadata": {
    "collapsed": false
   },
   "id": "13e6dc875f489915"
  },
  {
   "cell_type": "markdown",
   "source": [
    "我们将核心（core）模型转化为COMETS模型，打开其下限交换边界（使得边界值由环境决定），并设置对流参数以模拟菌落的推挤扩展过程。同时，我们还会选定若干位置投放起始生物量。"
   ],
   "metadata": {
    "collapsed": false
   },
   "id": "23d5a6079500d127"
  },
  {
   "cell_type": "code",
   "outputs": [],
   "source": [
    "ecoli = c.model(core)\n",
    "ecoli.open_exchanges()\n",
    "ecoli.add_convection_parameters(packedDensity = 0.022,\n",
    "                                    elasticModulus = 1.e-10,\n",
    "                                    frictionConstant = 1.0,\n",
    "                                    convDiffConstant = 0.0)\n",
    "ecoli.add_noise_variance_parameter(100.)\n",
    "\n",
    "# ecoli.initial_pop = [[x, x, 1.e-6] for x in [10,20,30,40]]\n",
    "\n",
    "ecoli.initial_pop = [[140, 50, 1.e-6],\n",
    "                    [58, 162, 1.e-6],\n",
    "                    [28,55,1.e-6],\n",
    "                    [132, 78, 1.e-6],\n",
    "                    [85, 152, 1.e-6],\n",
    "                    [73, 123, 1.e-6],\n",
    "                    [34, 76, 1.e-6],\n",
    "                    [150, 45, 1.e-6],\n",
    "                     [120, 73, 1.e-6],\n",
    "                     [34, 138, 1.e-6],\n",
    "                     [44, 180, 1.e-6],\n",
    "                     [180, 150, 1.e-6],\n",
    "                     [165, 135, 1.e-6],\n",
    "                     [24, 38, 1.e-6],\n",
    "                     [44, 45, 1.e-6],\n",
    "                     [99, 108, 1.e-6],\n",
    "                     [95, 23, 1.e-6],\n",
    "                     [35, 101, 1.e-6],\n",
    "                     [25, 102, 1.e-6]]"
   ],
   "metadata": {
    "collapsed": false
   },
   "id": "3f6b67b005379815"
  },
  {
   "cell_type": "markdown",
   "source": [
    "本协议新颖之处在于，“培养皿”被划分为两个不同的空间区域，每个区域具有不同的代谢物扩散系数。用户必须定义一系列参数来实现这一点：首先是“区域映射”，它是一个二维整数矩阵，对应于特定区域；然后是特定于区域的参数。我们将逐一进行这些操作。\n",
    "\n",
    "首先，定义区域映射。在这个示例中，我们将使用一个由200x200个小格构成的模拟区域。一半的“培养皿”为一个区域，另一半则为另一个区域。我们将创建一个整数numpy数组来描述这一划分。此外，尽管并非必要，我还会将区域映射绘制成图像进行展示。"
   ],
   "metadata": {
    "collapsed": false
   },
   "id": "32de59c4790ed121"
  },
  {
   "cell_type": "code",
   "outputs": [],
   "source": [
    "width = 200\n",
    "grid_size = [width, width] # width boxes in each direction\n",
    "region_map = np.zeros(grid_size, dtype = int) # an integer array filled with zeros\n",
    "region_map[:] = 1 # first fill the whole map with 1s\n",
    "region_map[int(width/2):width,:] = 2 # next fill the bottom half with 2s\n",
    "\n",
    "# this code here is unnecessary, but useful to visualize your region map:\n",
    "plt.imshow(np.transpose(region_map))"
   ],
   "metadata": {
    "collapsed": false
   },
   "id": "f86cae7f1839f84a"
  },
  {
   "cell_type": "markdown",
   "source": [
    "区域映射（region_map）看起来是正确的：一个200x200的正方形区域被划分为两个区域。接下来，我们将创建模拟的基础布局，并设置这个区域映射。完成这一步后，我们将设置各区域的具体参数。"
   ],
   "metadata": {
    "collapsed": false
   },
   "id": "910a5c4ec6c5cfce"
  },
  {
   "cell_type": "code",
   "outputs": [],
   "source": [
    "ly = c.layout([ecoli])\n",
    "ly.grid = grid_size\n",
    "ly.set_region_map(region_map)"
   ],
   "metadata": {
    "collapsed": false
   },
   "id": "48e8ce3067903a7b"
  },
  {
   "cell_type": "markdown",
   "source": [
    "特定于区域的参数包括每个代谢物在各区域内的扩散系数，以及每个区域中应用于所有代谢物的一个单一摩擦常数。为了简化处理，我们将在每个区域内对所有代谢物使用相同的扩散系数。其中，第一区域的扩散系数为5e-6（平方厘米/秒），第二区域则为5e-7。两个区域的摩擦常数均为1.0。\n",
    "\n",
    "因为对每个代谢物我们都采用相同的数值，所以我们只需要创建一个列表，其长度与模拟中代谢物的数量相等。"
   ],
   "metadata": {
    "collapsed": false
   },
   "id": "35adb4231c8798d3"
  },
  {
   "cell_type": "code",
   "outputs": [],
   "source": [
    "num_mets = ly.media.shape[0]\n",
    "diffusion_constant_region1 = [5.e-6] * num_mets\n",
    "diffusion_constant_region2 = [5.e-7] * num_mets\n",
    "friction_constant = 1.0"
   ],
   "metadata": {
    "collapsed": false
   },
   "id": "273646fd0b9a8a3f"
  },
  {
   "cell_type": "markdown",
   "source": [
    "我们通过指定（整数）区域，然后传递扩散常数和标量摩擦常数的列表来设置这些值。这必须针对每个区域单独执行。\n",
    "\n",
    "ly.set_region_parameters(1, diffusion_constant_region1, friction_constant)\n",
    "ly.set_region_parameters(2, diffusion_constant_region2, friction_constant)"
   ],
   "metadata": {
    "collapsed": false
   },
   "id": "1d4b37c26605e2d6"
  },
  {
   "cell_type": "markdown",
   "source": [
    "培养基浓度最初在“培养皿”中是恒定的。我们将在这里设置这些。"
   ],
   "metadata": {
    "collapsed": false
   },
   "id": "3a7375991334aa2f"
  },
  {
   "cell_type": "code",
   "outputs": [],
   "source": [
    "ly.set_specific_metabolite(\"glc__D_e\", 5.e-5)\n",
    "ly.set_specific_metabolite(\"h2o_e\", 1000.)\n",
    "ly.set_specific_metabolite(\"nh4_e\", 1000.)\n",
    "ly.set_specific_metabolite(\"h_e\", 1000.)\n",
    "ly.set_specific_metabolite(\"pi_e\", 1000.)\n",
    "ly.display_current_media()"
   ],
   "metadata": {
    "collapsed": false
   },
   "id": "72e822dd96b335a1"
  },
  {
   "cell_type": "markdown",
   "source": [
    "接下来，我们设置相关参数。我们必须确保将“biomassMotionStyle”设置为“Convection 2D”，否则生物质将不会使用上面设置的对流参数。"
   ],
   "metadata": {
    "collapsed": false
   },
   "id": "c5e41e4df1e63248"
  },
  {
   "cell_type": "code",
   "outputs": [],
   "source": [
    "p = c.params()\n",
    "\n",
    "p.all_params[\"maxCycles\"] = 5000\n",
    "p.all_params[\"biomassMotionStyle\"] = \"Convection 2D\"\n",
    "p.all_params[\"writeBiomassLog\"] = True\n",
    "p.all_params[\"BiomassLogRate\"] = p.all_params[\"maxCycles\"]\n",
    "p.all_params[\"defaultKm\"] = 0.01\n",
    "p.all_params[\"defaultVmax\"] = 10\n",
    "p.all_params[\"timeStep\"] = 0.01\n",
    "p.all_params[\"spaceWidth\"] = 0.02\n",
    "p.all_params[\"maxSpaceBiomass\"] = 10\n",
    "p.all_params[\"minSpaceBiomass\"] = 1.e-10\n",
    "p.all_params[\"allowCellOverlap\"] = True\n",
    "p.all_params[\"writeFluxLog\"] = True\n",
    "p.all_params[\"FluxLogRate\"] = p.all_params[\"maxCycles\"]\n",
    "p.all_params[\"writeMediaLog\"] = True\n",
    "p.all_params[\"MediaLogRate\"] = p.all_params[\"maxCycles\"]"
   ],
   "metadata": {
    "collapsed": false
   },
   "id": "d80dc40a2a96cce5"
  },
  {
   "cell_type": "markdown",
   "source": [
    "现在我们制作一个模拟对象并运行它。这可能需要一段时间。"
   ],
   "metadata": {
    "collapsed": false
   },
   "id": "31d058fa77326a5d"
  },
  {
   "cell_type": "code",
   "outputs": [],
   "source": [
    "sim = c.comets(ly, p)\n",
    "sim.run()"
   ],
   "metadata": {
    "collapsed": false
   },
   "id": "e46c7845ad3c5b8d"
  },
  {
   "cell_type": "markdown",
   "source": [
    "接下来，我们依次使用三种不同的辅助函数来获得生物量、代谢物浓度和通量值（生长率，这里），并将它们绘制在二维空间中。"
   ],
   "metadata": {
    "collapsed": false
   },
   "id": "56be0a8fcdfcc618"
  },
  {
   "cell_type": "code",
   "outputs": [],
   "source": [
    "from matplotlib import pyplot as plt\n",
    "import matplotlib.colors, matplotlib.cm\n",
    "import copy\n",
    "my_cmap = matplotlib.cm.get_cmap(\"copper\")\n",
    "my_cmap.set_bad((0,0,0))\n",
    "im = sim.get_biomass_image('e_coli_core', p.all_params[\"maxCycles\"])\n",
    "plt.imshow(im, norm = matplotlib.colors.LogNorm(), cmap = my_cmap)"
   ],
   "metadata": {
    "collapsed": false
   },
   "id": "8b32e6ad3dba7b6d"
  },
  {
   "cell_type": "code",
   "outputs": [],
   "source": [
    "# glucose\n",
    "plt.imshow(sim.get_metabolite_image(\"glc__D_e\", p.all_params['maxCycles']+1))"
   ],
   "metadata": {
    "collapsed": false
   },
   "id": "b450807159672baf"
  },
  {
   "cell_type": "code",
   "outputs": [],
   "source": [
    "# growth rate\n",
    "im = sim.get_flux_image(\"e_coli_core\", \"Biomass_Ecoli_core\", p.all_params[\"maxCycles\"])"
   ],
   "metadata": {
    "collapsed": false
   },
   "id": "f4cded16153867ed"
  },
  {
   "cell_type": "code",
   "outputs": [],
   "source": [
    "plt.imshow(im)"
   ],
   "metadata": {
    "collapsed": false
   },
   "id": "bb1f3fa216112a58"
  }
 ],
 "metadata": {
  "kernelspec": {
   "display_name": "Python 3",
   "language": "python",
   "name": "python3"
  },
  "language_info": {
   "codemirror_mode": {
    "name": "ipython",
    "version": 2
   },
   "file_extension": ".py",
   "mimetype": "text/x-python",
   "name": "python",
   "nbconvert_exporter": "python",
   "pygments_lexer": "ipython2",
   "version": "2.7.6"
  }
 },
 "nbformat": 4,
 "nbformat_minor": 5
}
